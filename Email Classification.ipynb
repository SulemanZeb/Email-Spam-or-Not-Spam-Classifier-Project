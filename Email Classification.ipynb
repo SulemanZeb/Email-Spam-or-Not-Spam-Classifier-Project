{
 "cells": [
  {
   "cell_type": "markdown",
   "id": "f9281680",
   "metadata": {},
   "source": [
    "### Steps we will follow\n",
    "-  Data gathering\n",
    "-  Data cleaning\n",
    "-  EDA\n",
    "-  Text Preprocessing\n",
    "-  Model building\n",
    "-  Evaluation\n",
    "-  Improvement\n",
    "\n",
    "### For End To End Project\n",
    "-  Git & DVC versioning\n",
    "-  Model Experimentation using MlFlow\n",
    "-  Website development\n",
    "-  Deployment on AWS or Azure"
   ]
  },
  {
   "cell_type": "markdown",
   "id": "44fb524f",
   "metadata": {},
   "source": [
    "## Data Gathering\n",
    "- We download two dataset from kaggle\n",
    "- df1 contain 3016 rows and df2 contain 5572 rows\n",
    "- Then we combine it for the reason that we have large dataset so the model can learn more efficiently"
   ]
  },
  {
   "cell_type": "markdown",
   "id": "d71c47a1",
   "metadata": {},
   "source": [
    "### Importing Liberaries"
   ]
  },
  {
   "cell_type": "code",
   "execution_count": 1,
   "id": "d6ded617",
   "metadata": {},
   "outputs": [],
   "source": [
    "import pandas as pd"
   ]
  },
  {
   "cell_type": "markdown",
   "id": "d20eb335",
   "metadata": {},
   "source": [
    "### Importing Datasets\n",
    "- First we import the datasets\n",
    "- Remove Null values in case if they are less in numbers\n",
    "- Remove Duplicate values\n",
    "- Giving same heading names for Merging two datasets"
   ]
  },
  {
   "cell_type": "code",
   "execution_count": 2,
   "id": "ecc38053",
   "metadata": {},
   "outputs": [],
   "source": [
    "df1 = pd.read_csv('spam_or_not_spam.csv')"
   ]
  },
  {
   "cell_type": "code",
   "execution_count": 3,
   "id": "b3589335",
   "metadata": {},
   "outputs": [
    {
     "data": {
      "text/html": [
       "<div>\n",
       "<style scoped>\n",
       "    .dataframe tbody tr th:only-of-type {\n",
       "        vertical-align: middle;\n",
       "    }\n",
       "\n",
       "    .dataframe tbody tr th {\n",
       "        vertical-align: top;\n",
       "    }\n",
       "\n",
       "    .dataframe thead th {\n",
       "        text-align: right;\n",
       "    }\n",
       "</style>\n",
       "<table border=\"1\" class=\"dataframe\">\n",
       "  <thead>\n",
       "    <tr style=\"text-align: right;\">\n",
       "      <th></th>\n",
       "      <th>Message</th>\n",
       "      <th>Category</th>\n",
       "    </tr>\n",
       "  </thead>\n",
       "  <tbody>\n",
       "    <tr>\n",
       "      <th>0</th>\n",
       "      <td>date wed NUMBER aug NUMBER NUMBER NUMBER NUMB...</td>\n",
       "      <td>0.0</td>\n",
       "    </tr>\n",
       "    <tr>\n",
       "      <th>1</th>\n",
       "      <td>martin a posted tassos papadopoulos the greek ...</td>\n",
       "      <td>0.0</td>\n",
       "    </tr>\n",
       "    <tr>\n",
       "      <th>2</th>\n",
       "      <td>man threatens explosion in moscow thursday aug...</td>\n",
       "      <td>0.0</td>\n",
       "    </tr>\n",
       "    <tr>\n",
       "      <th>3</th>\n",
       "      <td>klez the virus that won t die already the most...</td>\n",
       "      <td>0.0</td>\n",
       "    </tr>\n",
       "    <tr>\n",
       "      <th>4</th>\n",
       "      <td>in adding cream to spaghetti carbonara which ...</td>\n",
       "      <td>0.0</td>\n",
       "    </tr>\n",
       "    <tr>\n",
       "      <th>...</th>\n",
       "      <td>...</td>\n",
       "      <td>...</td>\n",
       "    </tr>\n",
       "    <tr>\n",
       "      <th>3011</th>\n",
       "      <td>abc s good morning america ranks it the NUMBE...</td>\n",
       "      <td>1.0</td>\n",
       "    </tr>\n",
       "    <tr>\n",
       "      <th>3012</th>\n",
       "      <td>hyperlink hyperlink hyperlink let mortgage le...</td>\n",
       "      <td>1.0</td>\n",
       "    </tr>\n",
       "    <tr>\n",
       "      <th>3013</th>\n",
       "      <td>thank you for shopping with us gifts for all ...</td>\n",
       "      <td>1.0</td>\n",
       "    </tr>\n",
       "    <tr>\n",
       "      <th>3014</th>\n",
       "      <td>the famous ebay marketing e course learn to s...</td>\n",
       "      <td>1.0</td>\n",
       "    </tr>\n",
       "    <tr>\n",
       "      <th>3015</th>\n",
       "      <td>hello this is chinese traditional 子 件 NUMBER世...</td>\n",
       "      <td>1.0</td>\n",
       "    </tr>\n",
       "  </tbody>\n",
       "</table>\n",
       "<p>3016 rows × 2 columns</p>\n",
       "</div>"
      ],
      "text/plain": [
       "                                                Message  Category\n",
       "0      date wed NUMBER aug NUMBER NUMBER NUMBER NUMB...       0.0\n",
       "1     martin a posted tassos papadopoulos the greek ...       0.0\n",
       "2     man threatens explosion in moscow thursday aug...       0.0\n",
       "3     klez the virus that won t die already the most...       0.0\n",
       "4      in adding cream to spaghetti carbonara which ...       0.0\n",
       "...                                                 ...       ...\n",
       "3011   abc s good morning america ranks it the NUMBE...       1.0\n",
       "3012   hyperlink hyperlink hyperlink let mortgage le...       1.0\n",
       "3013   thank you for shopping with us gifts for all ...       1.0\n",
       "3014   the famous ebay marketing e course learn to s...       1.0\n",
       "3015   hello this is chinese traditional 子 件 NUMBER世...       1.0\n",
       "\n",
       "[3016 rows x 2 columns]"
      ]
     },
     "execution_count": 3,
     "metadata": {},
     "output_type": "execute_result"
    }
   ],
   "source": [
    "df1"
   ]
  },
  {
   "cell_type": "code",
   "execution_count": 4,
   "id": "6b1712de",
   "metadata": {},
   "outputs": [],
   "source": [
    "df2 = pd.read_csv('mail_data.csv')"
   ]
  },
  {
   "cell_type": "code",
   "execution_count": 5,
   "id": "8b196d92",
   "metadata": {},
   "outputs": [
    {
     "data": {
      "text/html": [
       "<div>\n",
       "<style scoped>\n",
       "    .dataframe tbody tr th:only-of-type {\n",
       "        vertical-align: middle;\n",
       "    }\n",
       "\n",
       "    .dataframe tbody tr th {\n",
       "        vertical-align: top;\n",
       "    }\n",
       "\n",
       "    .dataframe thead th {\n",
       "        text-align: right;\n",
       "    }\n",
       "</style>\n",
       "<table border=\"1\" class=\"dataframe\">\n",
       "  <thead>\n",
       "    <tr style=\"text-align: right;\">\n",
       "      <th></th>\n",
       "      <th>Message</th>\n",
       "      <th>Category</th>\n",
       "    </tr>\n",
       "  </thead>\n",
       "  <tbody>\n",
       "    <tr>\n",
       "      <th>0</th>\n",
       "      <td>Go until jurong point, crazy.. Available only ...</td>\n",
       "      <td>ham</td>\n",
       "    </tr>\n",
       "    <tr>\n",
       "      <th>1</th>\n",
       "      <td>Ok lar... Joking wif u oni...</td>\n",
       "      <td>ham</td>\n",
       "    </tr>\n",
       "    <tr>\n",
       "      <th>2</th>\n",
       "      <td>Free entry in 2 a wkly comp to win FA Cup fina...</td>\n",
       "      <td>spam</td>\n",
       "    </tr>\n",
       "    <tr>\n",
       "      <th>3</th>\n",
       "      <td>U dun say so early hor... U c already then say...</td>\n",
       "      <td>ham</td>\n",
       "    </tr>\n",
       "    <tr>\n",
       "      <th>4</th>\n",
       "      <td>Nah I don't think he goes to usf, he lives aro...</td>\n",
       "      <td>ham</td>\n",
       "    </tr>\n",
       "    <tr>\n",
       "      <th>...</th>\n",
       "      <td>...</td>\n",
       "      <td>...</td>\n",
       "    </tr>\n",
       "    <tr>\n",
       "      <th>5567</th>\n",
       "      <td>This is the 2nd time we have tried 2 contact u...</td>\n",
       "      <td>spam</td>\n",
       "    </tr>\n",
       "    <tr>\n",
       "      <th>5568</th>\n",
       "      <td>Will ü b going to esplanade fr home?</td>\n",
       "      <td>ham</td>\n",
       "    </tr>\n",
       "    <tr>\n",
       "      <th>5569</th>\n",
       "      <td>Pity, * was in mood for that. So...any other s...</td>\n",
       "      <td>ham</td>\n",
       "    </tr>\n",
       "    <tr>\n",
       "      <th>5570</th>\n",
       "      <td>The guy did some bitching but I acted like i'd...</td>\n",
       "      <td>ham</td>\n",
       "    </tr>\n",
       "    <tr>\n",
       "      <th>5571</th>\n",
       "      <td>Rofl. Its true to its name</td>\n",
       "      <td>ham</td>\n",
       "    </tr>\n",
       "  </tbody>\n",
       "</table>\n",
       "<p>5572 rows × 2 columns</p>\n",
       "</div>"
      ],
      "text/plain": [
       "                                                Message Category\n",
       "0     Go until jurong point, crazy.. Available only ...      ham\n",
       "1                         Ok lar... Joking wif u oni...      ham\n",
       "2     Free entry in 2 a wkly comp to win FA Cup fina...     spam\n",
       "3     U dun say so early hor... U c already then say...      ham\n",
       "4     Nah I don't think he goes to usf, he lives aro...      ham\n",
       "...                                                 ...      ...\n",
       "5567  This is the 2nd time we have tried 2 contact u...     spam\n",
       "5568               Will ü b going to esplanade fr home?      ham\n",
       "5569  Pity, * was in mood for that. So...any other s...      ham\n",
       "5570  The guy did some bitching but I acted like i'd...      ham\n",
       "5571                         Rofl. Its true to its name      ham\n",
       "\n",
       "[5572 rows x 2 columns]"
      ]
     },
     "execution_count": 5,
     "metadata": {},
     "output_type": "execute_result"
    }
   ],
   "source": [
    "df2"
   ]
  },
  {
   "cell_type": "markdown",
   "id": "a0f12f79",
   "metadata": {},
   "source": [
    "## Data Cleaning"
   ]
  },
  {
   "cell_type": "code",
   "execution_count": 6,
   "id": "5d14fd94",
   "metadata": {},
   "outputs": [
    {
     "data": {
      "text/plain": [
       "Message      1\n",
       "Category    16\n",
       "dtype: int64"
      ]
     },
     "execution_count": 6,
     "metadata": {},
     "output_type": "execute_result"
    }
   ],
   "source": [
    "df1.isnull().sum()"
   ]
  },
  {
   "cell_type": "code",
   "execution_count": 7,
   "id": "6aa7ae7a",
   "metadata": {},
   "outputs": [],
   "source": [
    "df1 = df1.dropna()"
   ]
  },
  {
   "cell_type": "code",
   "execution_count": 8,
   "id": "8ec22857",
   "metadata": {},
   "outputs": [
    {
     "name": "stderr",
     "output_type": "stream",
     "text": [
      "C:\\Users\\Suleman Zeb\\AppData\\Local\\Temp\\ipykernel_12464\\3812507403.py:1: SettingWithCopyWarning: \n",
      "A value is trying to be set on a copy of a slice from a DataFrame.\n",
      "Try using .loc[row_indexer,col_indexer] = value instead\n",
      "\n",
      "See the caveats in the documentation: https://pandas.pydata.org/pandas-docs/stable/user_guide/indexing.html#returning-a-view-versus-a-copy\n",
      "  df1['Category'] = df1['Category'].astype(int)\n"
     ]
    }
   ],
   "source": [
    "df1['Category'] = df1['Category'].astype(int)"
   ]
  },
  {
   "cell_type": "code",
   "execution_count": 9,
   "id": "ee02b27c",
   "metadata": {},
   "outputs": [
    {
     "data": {
      "text/plain": [
       "Message     0\n",
       "Category    0\n",
       "dtype: int64"
      ]
     },
     "execution_count": 9,
     "metadata": {},
     "output_type": "execute_result"
    }
   ],
   "source": [
    "df1.isnull().sum()"
   ]
  },
  {
   "cell_type": "code",
   "execution_count": 10,
   "id": "98078a2c",
   "metadata": {},
   "outputs": [
    {
     "data": {
      "text/html": [
       "<div>\n",
       "<style scoped>\n",
       "    .dataframe tbody tr th:only-of-type {\n",
       "        vertical-align: middle;\n",
       "    }\n",
       "\n",
       "    .dataframe tbody tr th {\n",
       "        vertical-align: top;\n",
       "    }\n",
       "\n",
       "    .dataframe thead th {\n",
       "        text-align: right;\n",
       "    }\n",
       "</style>\n",
       "<table border=\"1\" class=\"dataframe\">\n",
       "  <thead>\n",
       "    <tr style=\"text-align: right;\">\n",
       "      <th></th>\n",
       "      <th>Message</th>\n",
       "      <th>Category</th>\n",
       "    </tr>\n",
       "  </thead>\n",
       "  <tbody>\n",
       "    <tr>\n",
       "      <th>0</th>\n",
       "      <td>date wed NUMBER aug NUMBER NUMBER NUMBER NUMB...</td>\n",
       "      <td>0</td>\n",
       "    </tr>\n",
       "    <tr>\n",
       "      <th>1</th>\n",
       "      <td>martin a posted tassos papadopoulos the greek ...</td>\n",
       "      <td>0</td>\n",
       "    </tr>\n",
       "    <tr>\n",
       "      <th>2</th>\n",
       "      <td>man threatens explosion in moscow thursday aug...</td>\n",
       "      <td>0</td>\n",
       "    </tr>\n",
       "    <tr>\n",
       "      <th>3</th>\n",
       "      <td>klez the virus that won t die already the most...</td>\n",
       "      <td>0</td>\n",
       "    </tr>\n",
       "    <tr>\n",
       "      <th>4</th>\n",
       "      <td>in adding cream to spaghetti carbonara which ...</td>\n",
       "      <td>0</td>\n",
       "    </tr>\n",
       "    <tr>\n",
       "      <th>...</th>\n",
       "      <td>...</td>\n",
       "      <td>...</td>\n",
       "    </tr>\n",
       "    <tr>\n",
       "      <th>3011</th>\n",
       "      <td>abc s good morning america ranks it the NUMBE...</td>\n",
       "      <td>1</td>\n",
       "    </tr>\n",
       "    <tr>\n",
       "      <th>3012</th>\n",
       "      <td>hyperlink hyperlink hyperlink let mortgage le...</td>\n",
       "      <td>1</td>\n",
       "    </tr>\n",
       "    <tr>\n",
       "      <th>3013</th>\n",
       "      <td>thank you for shopping with us gifts for all ...</td>\n",
       "      <td>1</td>\n",
       "    </tr>\n",
       "    <tr>\n",
       "      <th>3014</th>\n",
       "      <td>the famous ebay marketing e course learn to s...</td>\n",
       "      <td>1</td>\n",
       "    </tr>\n",
       "    <tr>\n",
       "      <th>3015</th>\n",
       "      <td>hello this is chinese traditional 子 件 NUMBER世...</td>\n",
       "      <td>1</td>\n",
       "    </tr>\n",
       "  </tbody>\n",
       "</table>\n",
       "<p>2999 rows × 2 columns</p>\n",
       "</div>"
      ],
      "text/plain": [
       "                                                Message  Category\n",
       "0      date wed NUMBER aug NUMBER NUMBER NUMBER NUMB...         0\n",
       "1     martin a posted tassos papadopoulos the greek ...         0\n",
       "2     man threatens explosion in moscow thursday aug...         0\n",
       "3     klez the virus that won t die already the most...         0\n",
       "4      in adding cream to spaghetti carbonara which ...         0\n",
       "...                                                 ...       ...\n",
       "3011   abc s good morning america ranks it the NUMBE...         1\n",
       "3012   hyperlink hyperlink hyperlink let mortgage le...         1\n",
       "3013   thank you for shopping with us gifts for all ...         1\n",
       "3014   the famous ebay marketing e course learn to s...         1\n",
       "3015   hello this is chinese traditional 子 件 NUMBER世...         1\n",
       "\n",
       "[2999 rows x 2 columns]"
      ]
     },
     "execution_count": 10,
     "metadata": {},
     "output_type": "execute_result"
    }
   ],
   "source": [
    "df1"
   ]
  },
  {
   "cell_type": "code",
   "execution_count": 11,
   "id": "cba416ac",
   "metadata": {},
   "outputs": [],
   "source": [
    "from sklearn.preprocessing import LabelEncoder\n",
    "encoder = LabelEncoder()\n",
    "df2['Category'] = encoder.fit_transform(df2['Category'])"
   ]
  },
  {
   "cell_type": "code",
   "execution_count": 12,
   "id": "cb7acf0c",
   "metadata": {},
   "outputs": [
    {
     "data": {
      "text/html": [
       "<div>\n",
       "<style scoped>\n",
       "    .dataframe tbody tr th:only-of-type {\n",
       "        vertical-align: middle;\n",
       "    }\n",
       "\n",
       "    .dataframe tbody tr th {\n",
       "        vertical-align: top;\n",
       "    }\n",
       "\n",
       "    .dataframe thead th {\n",
       "        text-align: right;\n",
       "    }\n",
       "</style>\n",
       "<table border=\"1\" class=\"dataframe\">\n",
       "  <thead>\n",
       "    <tr style=\"text-align: right;\">\n",
       "      <th></th>\n",
       "      <th>Message</th>\n",
       "      <th>Category</th>\n",
       "    </tr>\n",
       "  </thead>\n",
       "  <tbody>\n",
       "    <tr>\n",
       "      <th>0</th>\n",
       "      <td>Go until jurong point, crazy.. Available only ...</td>\n",
       "      <td>0</td>\n",
       "    </tr>\n",
       "    <tr>\n",
       "      <th>1</th>\n",
       "      <td>Ok lar... Joking wif u oni...</td>\n",
       "      <td>0</td>\n",
       "    </tr>\n",
       "    <tr>\n",
       "      <th>2</th>\n",
       "      <td>Free entry in 2 a wkly comp to win FA Cup fina...</td>\n",
       "      <td>1</td>\n",
       "    </tr>\n",
       "    <tr>\n",
       "      <th>3</th>\n",
       "      <td>U dun say so early hor... U c already then say...</td>\n",
       "      <td>0</td>\n",
       "    </tr>\n",
       "    <tr>\n",
       "      <th>4</th>\n",
       "      <td>Nah I don't think he goes to usf, he lives aro...</td>\n",
       "      <td>0</td>\n",
       "    </tr>\n",
       "    <tr>\n",
       "      <th>...</th>\n",
       "      <td>...</td>\n",
       "      <td>...</td>\n",
       "    </tr>\n",
       "    <tr>\n",
       "      <th>5567</th>\n",
       "      <td>This is the 2nd time we have tried 2 contact u...</td>\n",
       "      <td>1</td>\n",
       "    </tr>\n",
       "    <tr>\n",
       "      <th>5568</th>\n",
       "      <td>Will ü b going to esplanade fr home?</td>\n",
       "      <td>0</td>\n",
       "    </tr>\n",
       "    <tr>\n",
       "      <th>5569</th>\n",
       "      <td>Pity, * was in mood for that. So...any other s...</td>\n",
       "      <td>0</td>\n",
       "    </tr>\n",
       "    <tr>\n",
       "      <th>5570</th>\n",
       "      <td>The guy did some bitching but I acted like i'd...</td>\n",
       "      <td>0</td>\n",
       "    </tr>\n",
       "    <tr>\n",
       "      <th>5571</th>\n",
       "      <td>Rofl. Its true to its name</td>\n",
       "      <td>0</td>\n",
       "    </tr>\n",
       "  </tbody>\n",
       "</table>\n",
       "<p>5572 rows × 2 columns</p>\n",
       "</div>"
      ],
      "text/plain": [
       "                                                Message  Category\n",
       "0     Go until jurong point, crazy.. Available only ...         0\n",
       "1                         Ok lar... Joking wif u oni...         0\n",
       "2     Free entry in 2 a wkly comp to win FA Cup fina...         1\n",
       "3     U dun say so early hor... U c already then say...         0\n",
       "4     Nah I don't think he goes to usf, he lives aro...         0\n",
       "...                                                 ...       ...\n",
       "5567  This is the 2nd time we have tried 2 contact u...         1\n",
       "5568               Will ü b going to esplanade fr home?         0\n",
       "5569  Pity, * was in mood for that. So...any other s...         0\n",
       "5570  The guy did some bitching but I acted like i'd...         0\n",
       "5571                         Rofl. Its true to its name         0\n",
       "\n",
       "[5572 rows x 2 columns]"
      ]
     },
     "execution_count": 12,
     "metadata": {},
     "output_type": "execute_result"
    }
   ],
   "source": [
    "df2"
   ]
  },
  {
   "cell_type": "code",
   "execution_count": 13,
   "id": "4c9716e6",
   "metadata": {},
   "outputs": [
    {
     "data": {
      "text/plain": [
       "Message     0\n",
       "Category    0\n",
       "dtype: int64"
      ]
     },
     "execution_count": 13,
     "metadata": {},
     "output_type": "execute_result"
    }
   ],
   "source": [
    "df2.isnull().sum()"
   ]
  },
  {
   "cell_type": "code",
   "execution_count": 14,
   "id": "937b8bf1",
   "metadata": {},
   "outputs": [
    {
     "data": {
      "text/html": [
       "<div>\n",
       "<style scoped>\n",
       "    .dataframe tbody tr th:only-of-type {\n",
       "        vertical-align: middle;\n",
       "    }\n",
       "\n",
       "    .dataframe tbody tr th {\n",
       "        vertical-align: top;\n",
       "    }\n",
       "\n",
       "    .dataframe thead th {\n",
       "        text-align: right;\n",
       "    }\n",
       "</style>\n",
       "<table border=\"1\" class=\"dataframe\">\n",
       "  <thead>\n",
       "    <tr style=\"text-align: right;\">\n",
       "      <th></th>\n",
       "      <th>Message</th>\n",
       "      <th>Category</th>\n",
       "    </tr>\n",
       "  </thead>\n",
       "  <tbody>\n",
       "    <tr>\n",
       "      <th>0</th>\n",
       "      <td>date wed NUMBER aug NUMBER NUMBER NUMBER NUMB...</td>\n",
       "      <td>0</td>\n",
       "    </tr>\n",
       "    <tr>\n",
       "      <th>1</th>\n",
       "      <td>martin a posted tassos papadopoulos the greek ...</td>\n",
       "      <td>0</td>\n",
       "    </tr>\n",
       "    <tr>\n",
       "      <th>2</th>\n",
       "      <td>man threatens explosion in moscow thursday aug...</td>\n",
       "      <td>0</td>\n",
       "    </tr>\n",
       "    <tr>\n",
       "      <th>3</th>\n",
       "      <td>klez the virus that won t die already the most...</td>\n",
       "      <td>0</td>\n",
       "    </tr>\n",
       "    <tr>\n",
       "      <th>4</th>\n",
       "      <td>in adding cream to spaghetti carbonara which ...</td>\n",
       "      <td>0</td>\n",
       "    </tr>\n",
       "    <tr>\n",
       "      <th>...</th>\n",
       "      <td>...</td>\n",
       "      <td>...</td>\n",
       "    </tr>\n",
       "    <tr>\n",
       "      <th>5567</th>\n",
       "      <td>This is the 2nd time we have tried 2 contact u...</td>\n",
       "      <td>1</td>\n",
       "    </tr>\n",
       "    <tr>\n",
       "      <th>5568</th>\n",
       "      <td>Will ü b going to esplanade fr home?</td>\n",
       "      <td>0</td>\n",
       "    </tr>\n",
       "    <tr>\n",
       "      <th>5569</th>\n",
       "      <td>Pity, * was in mood for that. So...any other s...</td>\n",
       "      <td>0</td>\n",
       "    </tr>\n",
       "    <tr>\n",
       "      <th>5570</th>\n",
       "      <td>The guy did some bitching but I acted like i'd...</td>\n",
       "      <td>0</td>\n",
       "    </tr>\n",
       "    <tr>\n",
       "      <th>5571</th>\n",
       "      <td>Rofl. Its true to its name</td>\n",
       "      <td>0</td>\n",
       "    </tr>\n",
       "  </tbody>\n",
       "</table>\n",
       "<p>8571 rows × 2 columns</p>\n",
       "</div>"
      ],
      "text/plain": [
       "                                                Message  Category\n",
       "0      date wed NUMBER aug NUMBER NUMBER NUMBER NUMB...         0\n",
       "1     martin a posted tassos papadopoulos the greek ...         0\n",
       "2     man threatens explosion in moscow thursday aug...         0\n",
       "3     klez the virus that won t die already the most...         0\n",
       "4      in adding cream to spaghetti carbonara which ...         0\n",
       "...                                                 ...       ...\n",
       "5567  This is the 2nd time we have tried 2 contact u...         1\n",
       "5568               Will ü b going to esplanade fr home?         0\n",
       "5569  Pity, * was in mood for that. So...any other s...         0\n",
       "5570  The guy did some bitching but I acted like i'd...         0\n",
       "5571                         Rofl. Its true to its name         0\n",
       "\n",
       "[8571 rows x 2 columns]"
      ]
     },
     "execution_count": 14,
     "metadata": {},
     "output_type": "execute_result"
    }
   ],
   "source": [
    "df = pd.concat([df1,df2], axis=0, ignore_index = False)\n",
    "df"
   ]
  },
  {
   "cell_type": "code",
   "execution_count": 15,
   "id": "c1e7d98d",
   "metadata": {},
   "outputs": [
    {
     "data": {
      "text/plain": [
       "Message     0\n",
       "Category    0\n",
       "dtype: int64"
      ]
     },
     "execution_count": 15,
     "metadata": {},
     "output_type": "execute_result"
    }
   ],
   "source": [
    "df.isnull().sum()"
   ]
  },
  {
   "cell_type": "code",
   "execution_count": 16,
   "id": "2c7a0153",
   "metadata": {},
   "outputs": [
    {
     "name": "stdout",
     "output_type": "stream",
     "text": [
      "<class 'pandas.core.frame.DataFrame'>\n",
      "Int64Index: 8571 entries, 0 to 5571\n",
      "Data columns (total 2 columns):\n",
      " #   Column    Non-Null Count  Dtype \n",
      "---  ------    --------------  ----- \n",
      " 0   Message   8571 non-null   object\n",
      " 1   Category  8571 non-null   int32 \n",
      "dtypes: int32(1), object(1)\n",
      "memory usage: 167.4+ KB\n"
     ]
    }
   ],
   "source": [
    "df.info()"
   ]
  },
  {
   "cell_type": "code",
   "execution_count": 17,
   "id": "7b7a0fff",
   "metadata": {},
   "outputs": [
    {
     "data": {
      "text/html": [
       "<div>\n",
       "<style scoped>\n",
       "    .dataframe tbody tr th:only-of-type {\n",
       "        vertical-align: middle;\n",
       "    }\n",
       "\n",
       "    .dataframe tbody tr th {\n",
       "        vertical-align: top;\n",
       "    }\n",
       "\n",
       "    .dataframe thead th {\n",
       "        text-align: right;\n",
       "    }\n",
       "</style>\n",
       "<table border=\"1\" class=\"dataframe\">\n",
       "  <thead>\n",
       "    <tr style=\"text-align: right;\">\n",
       "      <th></th>\n",
       "      <th>Message</th>\n",
       "      <th>Category</th>\n",
       "    </tr>\n",
       "  </thead>\n",
       "  <tbody>\n",
       "    <tr>\n",
       "      <th>3541</th>\n",
       "      <td>I'll get there at 3, unless you guys want me t...</td>\n",
       "      <td>0</td>\n",
       "    </tr>\n",
       "    <tr>\n",
       "      <th>2161</th>\n",
       "      <td>No. Its not specialisation. Can work but its s...</td>\n",
       "      <td>0</td>\n",
       "    </tr>\n",
       "    <tr>\n",
       "      <th>1329</th>\n",
       "      <td>political news t r u t h o u t uses it too jus...</td>\n",
       "      <td>0</td>\n",
       "    </tr>\n",
       "    <tr>\n",
       "      <th>4672</th>\n",
       "      <td>Probably not, I'm almost out of gas and I get ...</td>\n",
       "      <td>0</td>\n",
       "    </tr>\n",
       "    <tr>\n",
       "      <th>2638</th>\n",
       "      <td>No I don't have cancer. Moms making a big deal...</td>\n",
       "      <td>0</td>\n",
       "    </tr>\n",
       "  </tbody>\n",
       "</table>\n",
       "</div>"
      ],
      "text/plain": [
       "                                                Message  Category\n",
       "3541  I'll get there at 3, unless you guys want me t...         0\n",
       "2161  No. Its not specialisation. Can work but its s...         0\n",
       "1329  political news t r u t h o u t uses it too jus...         0\n",
       "4672  Probably not, I'm almost out of gas and I get ...         0\n",
       "2638  No I don't have cancer. Moms making a big deal...         0"
      ]
     },
     "execution_count": 17,
     "metadata": {},
     "output_type": "execute_result"
    }
   ],
   "source": [
    "# renaming the cols\n",
    "df.rename(columns={'label':'target','email':'text'},inplace=True)\n",
    "df.sample(5)"
   ]
  },
  {
   "cell_type": "code",
   "execution_count": 18,
   "id": "69f2cb3a",
   "metadata": {},
   "outputs": [
    {
     "data": {
      "text/plain": [
       "Message     0\n",
       "Category    0\n",
       "dtype: int64"
      ]
     },
     "execution_count": 18,
     "metadata": {},
     "output_type": "execute_result"
    }
   ],
   "source": [
    "# missing values\n",
    "df.isnull().sum()"
   ]
  },
  {
   "cell_type": "code",
   "execution_count": 19,
   "id": "6d85cef3",
   "metadata": {},
   "outputs": [
    {
     "data": {
      "text/plain": [
       "542"
      ]
     },
     "execution_count": 19,
     "metadata": {},
     "output_type": "execute_result"
    }
   ],
   "source": [
    "# check for duplicate values\n",
    "df.duplicated().sum()"
   ]
  },
  {
   "cell_type": "code",
   "execution_count": 20,
   "id": "fb412a7f",
   "metadata": {},
   "outputs": [],
   "source": [
    "# remove duplicates\n",
    "df = df.drop_duplicates(keep='first')"
   ]
  },
  {
   "cell_type": "code",
   "execution_count": 21,
   "id": "9205856a",
   "metadata": {},
   "outputs": [
    {
     "data": {
      "text/plain": [
       "0"
      ]
     },
     "execution_count": 21,
     "metadata": {},
     "output_type": "execute_result"
    }
   ],
   "source": [
    "df.duplicated().sum()"
   ]
  },
  {
   "cell_type": "code",
   "execution_count": 22,
   "id": "fd381252",
   "metadata": {},
   "outputs": [
    {
     "data": {
      "text/plain": [
       "(8029, 2)"
      ]
     },
     "execution_count": 22,
     "metadata": {},
     "output_type": "execute_result"
    }
   ],
   "source": [
    "df.shape"
   ]
  },
  {
   "cell_type": "code",
   "execution_count": 23,
   "id": "66defe35",
   "metadata": {},
   "outputs": [],
   "source": [
    "df = df.dropna()"
   ]
  },
  {
   "cell_type": "code",
   "execution_count": 24,
   "id": "6fd3b0a3",
   "metadata": {},
   "outputs": [
    {
     "data": {
      "text/plain": [
       "Message     0\n",
       "Category    0\n",
       "dtype: int64"
      ]
     },
     "execution_count": 24,
     "metadata": {},
     "output_type": "execute_result"
    }
   ],
   "source": [
    "df.isnull().sum()"
   ]
  },
  {
   "cell_type": "markdown",
   "id": "b1ace6ac",
   "metadata": {},
   "source": [
    "# EDA"
   ]
  },
  {
   "cell_type": "code",
   "execution_count": 25,
   "id": "2f6648b8",
   "metadata": {},
   "outputs": [
    {
     "data": {
      "text/html": [
       "<div>\n",
       "<style scoped>\n",
       "    .dataframe tbody tr th:only-of-type {\n",
       "        vertical-align: middle;\n",
       "    }\n",
       "\n",
       "    .dataframe tbody tr th {\n",
       "        vertical-align: top;\n",
       "    }\n",
       "\n",
       "    .dataframe thead th {\n",
       "        text-align: right;\n",
       "    }\n",
       "</style>\n",
       "<table border=\"1\" class=\"dataframe\">\n",
       "  <thead>\n",
       "    <tr style=\"text-align: right;\">\n",
       "      <th></th>\n",
       "      <th>Message</th>\n",
       "      <th>Category</th>\n",
       "    </tr>\n",
       "  </thead>\n",
       "  <tbody>\n",
       "    <tr>\n",
       "      <th>0</th>\n",
       "      <td>date wed NUMBER aug NUMBER NUMBER NUMBER NUMB...</td>\n",
       "      <td>0</td>\n",
       "    </tr>\n",
       "    <tr>\n",
       "      <th>1</th>\n",
       "      <td>martin a posted tassos papadopoulos the greek ...</td>\n",
       "      <td>0</td>\n",
       "    </tr>\n",
       "    <tr>\n",
       "      <th>2</th>\n",
       "      <td>man threatens explosion in moscow thursday aug...</td>\n",
       "      <td>0</td>\n",
       "    </tr>\n",
       "    <tr>\n",
       "      <th>3</th>\n",
       "      <td>klez the virus that won t die already the most...</td>\n",
       "      <td>0</td>\n",
       "    </tr>\n",
       "    <tr>\n",
       "      <th>4</th>\n",
       "      <td>in adding cream to spaghetti carbonara which ...</td>\n",
       "      <td>0</td>\n",
       "    </tr>\n",
       "  </tbody>\n",
       "</table>\n",
       "</div>"
      ],
      "text/plain": [
       "                                             Message  Category\n",
       "0   date wed NUMBER aug NUMBER NUMBER NUMBER NUMB...         0\n",
       "1  martin a posted tassos papadopoulos the greek ...         0\n",
       "2  man threatens explosion in moscow thursday aug...         0\n",
       "3  klez the virus that won t die already the most...         0\n",
       "4   in adding cream to spaghetti carbonara which ...         0"
      ]
     },
     "execution_count": 25,
     "metadata": {},
     "output_type": "execute_result"
    }
   ],
   "source": [
    "df.head()"
   ]
  },
  {
   "cell_type": "code",
   "execution_count": 26,
   "id": "d1c57f21",
   "metadata": {},
   "outputs": [
    {
     "data": {
      "text/plain": [
       "0    6961\n",
       "1    1068\n",
       "Name: Category, dtype: int64"
      ]
     },
     "execution_count": 26,
     "metadata": {},
     "output_type": "execute_result"
    }
   ],
   "source": [
    "df['Category'].value_counts()"
   ]
  },
  {
   "cell_type": "code",
   "execution_count": 27,
   "id": "861098f7",
   "metadata": {},
   "outputs": [
    {
     "data": {
      "image/png": "[encoded data removed]",
      "text/plain": [
       "<Figure size 432x288 with 1 Axes>"
      ]
     },
     "metadata": {},
     "output_type": "display_data"
    }
   ],
   "source": [
    "import matplotlib.pyplot as plt\n",
    "plt.pie(df['Category'].value_counts(), labels=['Not_spam','spam'],autopct=\"%0.2f\")\n",
    "plt.show()"
   ]
  },
  {
   "cell_type": "code",
   "execution_count": 28,
   "id": "71443e90",
   "metadata": {},
   "outputs": [],
   "source": [
    "# Data is imbalanced"
   ]
  },
  {
   "cell_type": "code",
   "execution_count": 29,
   "id": "37f03a87",
   "metadata": {},
   "outputs": [],
   "source": [
    "import nltk\n",
    "from nltk.corpus import stopwords"
   ]
  },
  {
   "cell_type": "code",
   "execution_count": 30,
   "id": "0a9b87b5",
   "metadata": {},
   "outputs": [],
   "source": [
    "df['num_characters'] = df['Message'].apply(len)"
   ]
  },
  {
   "cell_type": "code",
   "execution_count": 31,
   "id": "9c2d8783",
   "metadata": {},
   "outputs": [
    {
     "data": {
      "text/html": [
       "<div>\n",
       "<style scoped>\n",
       "    .dataframe tbody tr th:only-of-type {\n",
       "        vertical-align: middle;\n",
       "    }\n",
       "\n",
       "    .dataframe tbody tr th {\n",
       "        vertical-align: top;\n",
       "    }\n",
       "\n",
       "    .dataframe thead th {\n",
       "        text-align: right;\n",
       "    }\n",
       "</style>\n",
       "<table border=\"1\" class=\"dataframe\">\n",
       "  <thead>\n",
       "    <tr style=\"text-align: right;\">\n",
       "      <th></th>\n",
       "      <th>Message</th>\n",
       "      <th>Category</th>\n",
       "      <th>num_characters</th>\n",
       "    </tr>\n",
       "  </thead>\n",
       "  <tbody>\n",
       "    <tr>\n",
       "      <th>0</th>\n",
       "      <td>date wed NUMBER aug NUMBER NUMBER NUMBER NUMB...</td>\n",
       "      <td>0</td>\n",
       "      <td>1522</td>\n",
       "    </tr>\n",
       "    <tr>\n",
       "      <th>1</th>\n",
       "      <td>martin a posted tassos papadopoulos the greek ...</td>\n",
       "      <td>0</td>\n",
       "      <td>643</td>\n",
       "    </tr>\n",
       "    <tr>\n",
       "      <th>2</th>\n",
       "      <td>man threatens explosion in moscow thursday aug...</td>\n",
       "      <td>0</td>\n",
       "      <td>1509</td>\n",
       "    </tr>\n",
       "    <tr>\n",
       "      <th>3</th>\n",
       "      <td>klez the virus that won t die already the most...</td>\n",
       "      <td>0</td>\n",
       "      <td>1015</td>\n",
       "    </tr>\n",
       "    <tr>\n",
       "      <th>4</th>\n",
       "      <td>in adding cream to spaghetti carbonara which ...</td>\n",
       "      <td>0</td>\n",
       "      <td>771</td>\n",
       "    </tr>\n",
       "    <tr>\n",
       "      <th>...</th>\n",
       "      <td>...</td>\n",
       "      <td>...</td>\n",
       "      <td>...</td>\n",
       "    </tr>\n",
       "    <tr>\n",
       "      <th>5567</th>\n",
       "      <td>This is the 2nd time we have tried 2 contact u...</td>\n",
       "      <td>1</td>\n",
       "      <td>160</td>\n",
       "    </tr>\n",
       "    <tr>\n",
       "      <th>5568</th>\n",
       "      <td>Will ü b going to esplanade fr home?</td>\n",
       "      <td>0</td>\n",
       "      <td>36</td>\n",
       "    </tr>\n",
       "    <tr>\n",
       "      <th>5569</th>\n",
       "      <td>Pity, * was in mood for that. So...any other s...</td>\n",
       "      <td>0</td>\n",
       "      <td>57</td>\n",
       "    </tr>\n",
       "    <tr>\n",
       "      <th>5570</th>\n",
       "      <td>The guy did some bitching but I acted like i'd...</td>\n",
       "      <td>0</td>\n",
       "      <td>125</td>\n",
       "    </tr>\n",
       "    <tr>\n",
       "      <th>5571</th>\n",
       "      <td>Rofl. Its true to its name</td>\n",
       "      <td>0</td>\n",
       "      <td>26</td>\n",
       "    </tr>\n",
       "  </tbody>\n",
       "</table>\n",
       "<p>8029 rows × 3 columns</p>\n",
       "</div>"
      ],
      "text/plain": [
       "                                                Message  Category  \\\n",
       "0      date wed NUMBER aug NUMBER NUMBER NUMBER NUMB...         0   \n",
       "1     martin a posted tassos papadopoulos the greek ...         0   \n",
       "2     man threatens explosion in moscow thursday aug...         0   \n",
       "3     klez the virus that won t die already the most...         0   \n",
       "4      in adding cream to spaghetti carbonara which ...         0   \n",
       "...                                                 ...       ...   \n",
       "5567  This is the 2nd time we have tried 2 contact u...         1   \n",
       "5568               Will ü b going to esplanade fr home?         0   \n",
       "5569  Pity, * was in mood for that. So...any other s...         0   \n",
       "5570  The guy did some bitching but I acted like i'd...         0   \n",
       "5571                         Rofl. Its true to its name         0   \n",
       "\n",
       "      num_characters  \n",
       "0               1522  \n",
       "1                643  \n",
       "2               1509  \n",
       "3               1015  \n",
       "4                771  \n",
       "...              ...  \n",
       "5567             160  \n",
       "5568              36  \n",
       "5569              57  \n",
       "5570             125  \n",
       "5571              26  \n",
       "\n",
       "[8029 rows x 3 columns]"
      ]
     },
     "execution_count": 31,
     "metadata": {},
     "output_type": "execute_result"
    }
   ],
   "source": [
    "df"
   ]
  },
  {
   "cell_type": "code",
   "execution_count": 32,
   "id": "0451e95a",
   "metadata": {},
   "outputs": [],
   "source": [
    "# num of words\n",
    "df['num_words'] = df['Message'].apply(lambda x:len(nltk.word_tokenize(x)))"
   ]
  },
  {
   "cell_type": "code",
   "execution_count": 33,
   "id": "00a13e62",
   "metadata": {},
   "outputs": [],
   "source": [
    "df['num_sentences'] = df['Message'].apply(lambda x:len(nltk.sent_tokenize(x)))"
   ]
  },
  {
   "cell_type": "code",
   "execution_count": 34,
   "id": "6c7a7b40",
   "metadata": {},
   "outputs": [
    {
     "data": {
      "text/html": [
       "<div>\n",
       "<style scoped>\n",
       "    .dataframe tbody tr th:only-of-type {\n",
       "        vertical-align: middle;\n",
       "    }\n",
       "\n",
       "    .dataframe tbody tr th {\n",
       "        vertical-align: top;\n",
       "    }\n",
       "\n",
       "    .dataframe thead th {\n",
       "        text-align: right;\n",
       "    }\n",
       "</style>\n",
       "<table border=\"1\" class=\"dataframe\">\n",
       "  <thead>\n",
       "    <tr style=\"text-align: right;\">\n",
       "      <th></th>\n",
       "      <th>Message</th>\n",
       "      <th>Category</th>\n",
       "      <th>num_characters</th>\n",
       "      <th>num_words</th>\n",
       "      <th>num_sentences</th>\n",
       "    </tr>\n",
       "  </thead>\n",
       "  <tbody>\n",
       "    <tr>\n",
       "      <th>0</th>\n",
       "      <td>date wed NUMBER aug NUMBER NUMBER NUMBER NUMB...</td>\n",
       "      <td>0</td>\n",
       "      <td>1522</td>\n",
       "      <td>257</td>\n",
       "      <td>1</td>\n",
       "    </tr>\n",
       "    <tr>\n",
       "      <th>1</th>\n",
       "      <td>martin a posted tassos papadopoulos the greek ...</td>\n",
       "      <td>0</td>\n",
       "      <td>643</td>\n",
       "      <td>113</td>\n",
       "      <td>1</td>\n",
       "    </tr>\n",
       "    <tr>\n",
       "      <th>2</th>\n",
       "      <td>man threatens explosion in moscow thursday aug...</td>\n",
       "      <td>0</td>\n",
       "      <td>1509</td>\n",
       "      <td>256</td>\n",
       "      <td>1</td>\n",
       "    </tr>\n",
       "    <tr>\n",
       "      <th>3</th>\n",
       "      <td>klez the virus that won t die already the most...</td>\n",
       "      <td>0</td>\n",
       "      <td>1015</td>\n",
       "      <td>169</td>\n",
       "      <td>1</td>\n",
       "    </tr>\n",
       "    <tr>\n",
       "      <th>4</th>\n",
       "      <td>in adding cream to spaghetti carbonara which ...</td>\n",
       "      <td>0</td>\n",
       "      <td>771</td>\n",
       "      <td>144</td>\n",
       "      <td>1</td>\n",
       "    </tr>\n",
       "    <tr>\n",
       "      <th>...</th>\n",
       "      <td>...</td>\n",
       "      <td>...</td>\n",
       "      <td>...</td>\n",
       "      <td>...</td>\n",
       "      <td>...</td>\n",
       "    </tr>\n",
       "    <tr>\n",
       "      <th>5567</th>\n",
       "      <td>This is the 2nd time we have tried 2 contact u...</td>\n",
       "      <td>1</td>\n",
       "      <td>160</td>\n",
       "      <td>35</td>\n",
       "      <td>4</td>\n",
       "    </tr>\n",
       "    <tr>\n",
       "      <th>5568</th>\n",
       "      <td>Will ü b going to esplanade fr home?</td>\n",
       "      <td>0</td>\n",
       "      <td>36</td>\n",
       "      <td>9</td>\n",
       "      <td>1</td>\n",
       "    </tr>\n",
       "    <tr>\n",
       "      <th>5569</th>\n",
       "      <td>Pity, * was in mood for that. So...any other s...</td>\n",
       "      <td>0</td>\n",
       "      <td>57</td>\n",
       "      <td>15</td>\n",
       "      <td>2</td>\n",
       "    </tr>\n",
       "    <tr>\n",
       "      <th>5570</th>\n",
       "      <td>The guy did some bitching but I acted like i'd...</td>\n",
       "      <td>0</td>\n",
       "      <td>125</td>\n",
       "      <td>27</td>\n",
       "      <td>1</td>\n",
       "    </tr>\n",
       "    <tr>\n",
       "      <th>5571</th>\n",
       "      <td>Rofl. Its true to its name</td>\n",
       "      <td>0</td>\n",
       "      <td>26</td>\n",
       "      <td>7</td>\n",
       "      <td>2</td>\n",
       "    </tr>\n",
       "  </tbody>\n",
       "</table>\n",
       "<p>8029 rows × 5 columns</p>\n",
       "</div>"
      ],
      "text/plain": [
       "                                                Message  Category  \\\n",
       "0      date wed NUMBER aug NUMBER NUMBER NUMBER NUMB...         0   \n",
       "1     martin a posted tassos papadopoulos the greek ...         0   \n",
       "2     man threatens explosion in moscow thursday aug...         0   \n",
       "3     klez the virus that won t die already the most...         0   \n",
       "4      in adding cream to spaghetti carbonara which ...         0   \n",
       "...                                                 ...       ...   \n",
       "5567  This is the 2nd time we have tried 2 contact u...         1   \n",
       "5568               Will ü b going to esplanade fr home?         0   \n",
       "5569  Pity, * was in mood for that. So...any other s...         0   \n",
       "5570  The guy did some bitching but I acted like i'd...         0   \n",
       "5571                         Rofl. Its true to its name         0   \n",
       "\n",
       "      num_characters  num_words  num_sentences  \n",
       "0               1522        257              1  \n",
       "1                643        113              1  \n",
       "2               1509        256              1  \n",
       "3               1015        169              1  \n",
       "4                771        144              1  \n",
       "...              ...        ...            ...  \n",
       "5567             160         35              4  \n",
       "5568              36          9              1  \n",
       "5569              57         15              2  \n",
       "5570             125         27              1  \n",
       "5571              26          7              2  \n",
       "\n",
       "[8029 rows x 5 columns]"
      ]
     },
     "execution_count": 34,
     "metadata": {},
     "output_type": "execute_result"
    }
   ],
   "source": [
    "df"
   ]
  },
  {
   "cell_type": "code",
   "execution_count": 35,
   "id": "f8e2a451",
   "metadata": {},
   "outputs": [
    {
     "data": {
      "text/html": [
       "<div>\n",
       "<style scoped>\n",
       "    .dataframe tbody tr th:only-of-type {\n",
       "        vertical-align: middle;\n",
       "    }\n",
       "\n",
       "    .dataframe tbody tr th {\n",
       "        vertical-align: top;\n",
       "    }\n",
       "\n",
       "    .dataframe thead th {\n",
       "        text-align: right;\n",
       "    }\n",
       "</style>\n",
       "<table border=\"1\" class=\"dataframe\">\n",
       "  <thead>\n",
       "    <tr style=\"text-align: right;\">\n",
       "      <th></th>\n",
       "      <th>num_characters</th>\n",
       "      <th>num_words</th>\n",
       "      <th>num_sentences</th>\n",
       "    </tr>\n",
       "  </thead>\n",
       "  <tbody>\n",
       "    <tr>\n",
       "      <th>count</th>\n",
       "      <td>8029.000000</td>\n",
       "      <td>8029.000000</td>\n",
       "      <td>8029.000000</td>\n",
       "    </tr>\n",
       "    <tr>\n",
       "      <th>mean</th>\n",
       "      <td>500.192677</td>\n",
       "      <td>90.285839</td>\n",
       "      <td>1.610412</td>\n",
       "    </tr>\n",
       "    <tr>\n",
       "      <th>std</th>\n",
       "      <td>1281.019860</td>\n",
       "      <td>218.967633</td>\n",
       "      <td>1.183646</td>\n",
       "    </tr>\n",
       "    <tr>\n",
       "      <th>min</th>\n",
       "      <td>1.000000</td>\n",
       "      <td>0.000000</td>\n",
       "      <td>0.000000</td>\n",
       "    </tr>\n",
       "    <tr>\n",
       "      <th>25%</th>\n",
       "      <td>47.000000</td>\n",
       "      <td>12.000000</td>\n",
       "      <td>1.000000</td>\n",
       "    </tr>\n",
       "    <tr>\n",
       "      <th>50%</th>\n",
       "      <td>120.000000</td>\n",
       "      <td>26.000000</td>\n",
       "      <td>1.000000</td>\n",
       "    </tr>\n",
       "    <tr>\n",
       "      <th>75%</th>\n",
       "      <td>467.000000</td>\n",
       "      <td>83.000000</td>\n",
       "      <td>2.000000</td>\n",
       "    </tr>\n",
       "    <tr>\n",
       "      <th>max</th>\n",
       "      <td>22067.000000</td>\n",
       "      <td>3489.000000</td>\n",
       "      <td>28.000000</td>\n",
       "    </tr>\n",
       "  </tbody>\n",
       "</table>\n",
       "</div>"
      ],
      "text/plain": [
       "       num_characters    num_words  num_sentences\n",
       "count     8029.000000  8029.000000    8029.000000\n",
       "mean       500.192677    90.285839       1.610412\n",
       "std       1281.019860   218.967633       1.183646\n",
       "min          1.000000     0.000000       0.000000\n",
       "25%         47.000000    12.000000       1.000000\n",
       "50%        120.000000    26.000000       1.000000\n",
       "75%        467.000000    83.000000       2.000000\n",
       "max      22067.000000  3489.000000      28.000000"
      ]
     },
     "execution_count": 35,
     "metadata": {},
     "output_type": "execute_result"
    }
   ],
   "source": [
    "df[['num_characters','num_words','num_sentences']].describe()"
   ]
  },
  {
   "cell_type": "code",
   "execution_count": 36,
   "id": "b753ed72",
   "metadata": {},
   "outputs": [
    {
     "data": {
      "text/html": [
       "<div>\n",
       "<style scoped>\n",
       "    .dataframe tbody tr th:only-of-type {\n",
       "        vertical-align: middle;\n",
       "    }\n",
       "\n",
       "    .dataframe tbody tr th {\n",
       "        vertical-align: top;\n",
       "    }\n",
       "\n",
       "    .dataframe thead th {\n",
       "        text-align: right;\n",
       "    }\n",
       "</style>\n",
       "<table border=\"1\" class=\"dataframe\">\n",
       "  <thead>\n",
       "    <tr style=\"text-align: right;\">\n",
       "      <th></th>\n",
       "      <th>num_characters</th>\n",
       "      <th>num_words</th>\n",
       "      <th>num_sentences</th>\n",
       "    </tr>\n",
       "  </thead>\n",
       "  <tbody>\n",
       "    <tr>\n",
       "      <th>count</th>\n",
       "      <td>6961.000000</td>\n",
       "      <td>6961.000000</td>\n",
       "      <td>6961.000000</td>\n",
       "    </tr>\n",
       "    <tr>\n",
       "      <th>mean</th>\n",
       "      <td>447.347077</td>\n",
       "      <td>81.582388</td>\n",
       "      <td>1.523057</td>\n",
       "    </tr>\n",
       "    <tr>\n",
       "      <th>std</th>\n",
       "      <td>1089.501227</td>\n",
       "      <td>184.003380</td>\n",
       "      <td>1.101889</td>\n",
       "    </tr>\n",
       "    <tr>\n",
       "      <th>min</th>\n",
       "      <td>2.000000</td>\n",
       "      <td>1.000000</td>\n",
       "      <td>1.000000</td>\n",
       "    </tr>\n",
       "    <tr>\n",
       "      <th>25%</th>\n",
       "      <td>42.000000</td>\n",
       "      <td>11.000000</td>\n",
       "      <td>1.000000</td>\n",
       "    </tr>\n",
       "    <tr>\n",
       "      <th>50%</th>\n",
       "      <td>93.000000</td>\n",
       "      <td>22.000000</td>\n",
       "      <td>1.000000</td>\n",
       "    </tr>\n",
       "    <tr>\n",
       "      <th>75%</th>\n",
       "      <td>428.000000</td>\n",
       "      <td>77.000000</td>\n",
       "      <td>2.000000</td>\n",
       "    </tr>\n",
       "    <tr>\n",
       "      <th>max</th>\n",
       "      <td>19820.000000</td>\n",
       "      <td>3043.000000</td>\n",
       "      <td>28.000000</td>\n",
       "    </tr>\n",
       "  </tbody>\n",
       "</table>\n",
       "</div>"
      ],
      "text/plain": [
       "       num_characters    num_words  num_sentences\n",
       "count     6961.000000  6961.000000    6961.000000\n",
       "mean       447.347077    81.582388       1.523057\n",
       "std       1089.501227   184.003380       1.101889\n",
       "min          2.000000     1.000000       1.000000\n",
       "25%         42.000000    11.000000       1.000000\n",
       "50%         93.000000    22.000000       1.000000\n",
       "75%        428.000000    77.000000       2.000000\n",
       "max      19820.000000  3043.000000      28.000000"
      ]
     },
     "execution_count": 36,
     "metadata": {},
     "output_type": "execute_result"
    }
   ],
   "source": [
    "# ham\n",
    "df[df['Category'] == 0][['num_characters','num_words','num_sentences']].describe()"
   ]
  },
  {
   "cell_type": "code",
   "execution_count": 37,
   "id": "eee8db56",
   "metadata": {},
   "outputs": [
    {
     "data": {
      "text/html": [
       "<div>\n",
       "<style scoped>\n",
       "    .dataframe tbody tr th:only-of-type {\n",
       "        vertical-align: middle;\n",
       "    }\n",
       "\n",
       "    .dataframe tbody tr th {\n",
       "        vertical-align: top;\n",
       "    }\n",
       "\n",
       "    .dataframe thead th {\n",
       "        text-align: right;\n",
       "    }\n",
       "</style>\n",
       "<table border=\"1\" class=\"dataframe\">\n",
       "  <thead>\n",
       "    <tr style=\"text-align: right;\">\n",
       "      <th></th>\n",
       "      <th>num_characters</th>\n",
       "      <th>num_words</th>\n",
       "      <th>num_sentences</th>\n",
       "    </tr>\n",
       "  </thead>\n",
       "  <tbody>\n",
       "    <tr>\n",
       "      <th>count</th>\n",
       "      <td>1068.000000</td>\n",
       "      <td>1068.000000</td>\n",
       "      <td>1068.000000</td>\n",
       "    </tr>\n",
       "    <tr>\n",
       "      <th>mean</th>\n",
       "      <td>844.629213</td>\n",
       "      <td>147.013109</td>\n",
       "      <td>2.179775</td>\n",
       "    </tr>\n",
       "    <tr>\n",
       "      <th>std</th>\n",
       "      <td>2113.528063</td>\n",
       "      <td>369.028952</td>\n",
       "      <td>1.498979</td>\n",
       "    </tr>\n",
       "    <tr>\n",
       "      <th>min</th>\n",
       "      <td>1.000000</td>\n",
       "      <td>0.000000</td>\n",
       "      <td>0.000000</td>\n",
       "    </tr>\n",
       "    <tr>\n",
       "      <th>25%</th>\n",
       "      <td>143.000000</td>\n",
       "      <td>27.000000</td>\n",
       "      <td>1.000000</td>\n",
       "    </tr>\n",
       "    <tr>\n",
       "      <th>50%</th>\n",
       "      <td>158.000000</td>\n",
       "      <td>33.000000</td>\n",
       "      <td>1.000000</td>\n",
       "    </tr>\n",
       "    <tr>\n",
       "      <th>75%</th>\n",
       "      <td>809.000000</td>\n",
       "      <td>128.250000</td>\n",
       "      <td>3.000000</td>\n",
       "    </tr>\n",
       "    <tr>\n",
       "      <th>max</th>\n",
       "      <td>22067.000000</td>\n",
       "      <td>3489.000000</td>\n",
       "      <td>8.000000</td>\n",
       "    </tr>\n",
       "  </tbody>\n",
       "</table>\n",
       "</div>"
      ],
      "text/plain": [
       "       num_characters    num_words  num_sentences\n",
       "count     1068.000000  1068.000000    1068.000000\n",
       "mean       844.629213   147.013109       2.179775\n",
       "std       2113.528063   369.028952       1.498979\n",
       "min          1.000000     0.000000       0.000000\n",
       "25%        143.000000    27.000000       1.000000\n",
       "50%        158.000000    33.000000       1.000000\n",
       "75%        809.000000   128.250000       3.000000\n",
       "max      22067.000000  3489.000000       8.000000"
      ]
     },
     "execution_count": 37,
     "metadata": {},
     "output_type": "execute_result"
    }
   ],
   "source": [
    "#spam\n",
    "df[df['Category'] == 1][['num_characters','num_words','num_sentences']].describe()"
   ]
  },
  {
   "cell_type": "code",
   "execution_count": 38,
   "id": "b9de167f",
   "metadata": {},
   "outputs": [
    {
     "data": {
      "text/plain": [
       "<AxesSubplot:xlabel='num_characters', ylabel='Count'>"
      ]
     },
     "execution_count": 38,
     "metadata": {},
     "output_type": "execute_result"
    },
    {
     "data": {
      "image/png": "[encoded data removed]",
      "text/plain": [
       "<Figure size 864x432 with 1 Axes>"
      ]
     },
     "metadata": {
      "needs_background": "light"
     },
     "output_type": "display_data"
    }
   ],
   "source": [
    "import seaborn as sns\n",
    "plt.figure(figsize=(12,6))\n",
    "sns.histplot(df[df['Category'] == 0]['num_characters'])\n",
    "sns.histplot(df[df['Category'] == 1]['num_characters'],color='red')"
   ]
  },
  {
   "cell_type": "code",
   "execution_count": 39,
   "id": "8eb40b30",
   "metadata": {},
   "outputs": [
    {
     "data": {
      "text/plain": [
       "<AxesSubplot:xlabel='num_words', ylabel='Count'>"
      ]
     },
     "execution_count": 39,
     "metadata": {},
     "output_type": "execute_result"
    },
    {
     "data": {
      "image/png": "[encoded data removed]",
      "text/plain": [
       "<Figure size 864x432 with 1 Axes>"
      ]
     },
     "metadata": {
      "needs_background": "light"
     },
     "output_type": "display_data"
    }
   ],
   "source": [
    "plt.figure(figsize=(12,6))\n",
    "sns.histplot(df[df['Category'] == 0]['num_words'])\n",
    "sns.histplot(df[df['Category'] == 1]['num_words'],color='red')"
   ]
  },
  {
   "cell_type": "code",
   "execution_count": 40,
   "id": "7e22ba42",
   "metadata": {},
   "outputs": [
    {
     "data": {
      "text/plain": [
       "<AxesSubplot:>"
      ]
     },
     "execution_count": 40,
     "metadata": {},
     "output_type": "execute_result"
    },
    {
     "data": {
      "image/png": "[encoded data removed]",
      "text/plain": [
       "<Figure size 432x288 with 2 Axes>"
      ]
     },
     "metadata": {
      "needs_background": "light"
     },
     "output_type": "display_data"
    }
   ],
   "source": [
    "sns.heatmap(df.corr(),annot=True)"
   ]
  },
  {
   "cell_type": "markdown",
   "id": "4ff97c4b",
   "metadata": {},
   "source": [
    "##  Data Preprocessing\n",
    "- Lower case\n",
    "- Tokenization\n",
    "- Removing special characters\n",
    "- Removing stop words and punctuation\n",
    "- Stemming"
   ]
  },
  {
   "cell_type": "code",
   "execution_count": 41,
   "id": "62cd308d",
   "metadata": {},
   "outputs": [],
   "source": [
    "import string"
   ]
  },
  {
   "cell_type": "code",
   "execution_count": 42,
   "id": "a24d948a",
   "metadata": {},
   "outputs": [],
   "source": [
    "def transform_text(Message):\n",
    "    Message = Message.lower()\n",
    "    Message = nltk.word_tokenize(Message)\n",
    "    \n",
    "    y = []\n",
    "    for i in Message:\n",
    "        if i.isalnum():\n",
    "            y.append(i)\n",
    "    \n",
    "    Message = y[:]\n",
    "    y.clear()\n",
    "    \n",
    "    for i in Message:\n",
    "        if i not in stopwords.words('english') and i not in string.punctuation:\n",
    "            y.append(i)\n",
    "            \n",
    "    Message = y[:]\n",
    "    y.clear()\n",
    "    \n",
    "    for i in Message:\n",
    "        y.append(ps.stem(i))\n",
    "    \n",
    "            \n",
    "    return \" \".join(y)"
   ]
  },
  {
   "cell_type": "code",
   "execution_count": 43,
   "id": "bf62bbf3",
   "metadata": {},
   "outputs": [
    {
     "data": {
      "text/plain": [
       "'love'"
      ]
     },
     "execution_count": 43,
     "metadata": {},
     "output_type": "execute_result"
    }
   ],
   "source": [
    "from nltk.stem.porter import PorterStemmer\n",
    "ps = PorterStemmer()\n",
    "ps.stem('loving')"
   ]
  },
  {
   "cell_type": "code",
   "execution_count": 44,
   "id": "ae676562",
   "metadata": {},
   "outputs": [],
   "source": [
    "# nltk.download('punkt')"
   ]
  },
  {
   "cell_type": "code",
   "execution_count": 45,
   "id": "17ddee61",
   "metadata": {},
   "outputs": [
    {
     "data": {
      "text/plain": [
       "'gon na home soon want talk stuff anymor tonight k cri enough today'"
      ]
     },
     "execution_count": 45,
     "metadata": {},
     "output_type": "execute_result"
    }
   ],
   "source": [
    "transform_text(\"I'm gonna be home soon and i don't want to talk about this stuff anymore tonight, k? I've cried enough today.\")"
   ]
  },
  {
   "cell_type": "code",
   "execution_count": 46,
   "id": "11ab1fb8",
   "metadata": {},
   "outputs": [
    {
     "data": {
      "text/plain": [
       "11    yes great minds think alike but even withput e...\n",
       "11    SIX chances to win CASH! From 100 to 20,000 po...\n",
       "Name: Message, dtype: object"
      ]
     },
     "execution_count": 46,
     "metadata": {},
     "output_type": "execute_result"
    }
   ],
   "source": [
    "df['Message'][11]"
   ]
  },
  {
   "cell_type": "code",
   "execution_count": 47,
   "id": "96725451",
   "metadata": {},
   "outputs": [],
   "source": [
    "df['transformed_text'] = df['Message'].apply(transform_text)"
   ]
  },
  {
   "cell_type": "code",
   "execution_count": 48,
   "id": "ce2aa3d3",
   "metadata": {},
   "outputs": [
    {
     "data": {
      "text/html": [
       "<div>\n",
       "<style scoped>\n",
       "    .dataframe tbody tr th:only-of-type {\n",
       "        vertical-align: middle;\n",
       "    }\n",
       "\n",
       "    .dataframe tbody tr th {\n",
       "        vertical-align: top;\n",
       "    }\n",
       "\n",
       "    .dataframe thead th {\n",
       "        text-align: right;\n",
       "    }\n",
       "</style>\n",
       "<table border=\"1\" class=\"dataframe\">\n",
       "  <thead>\n",
       "    <tr style=\"text-align: right;\">\n",
       "      <th></th>\n",
       "      <th>Message</th>\n",
       "      <th>Category</th>\n",
       "      <th>num_characters</th>\n",
       "      <th>num_words</th>\n",
       "      <th>num_sentences</th>\n",
       "      <th>transformed_text</th>\n",
       "    </tr>\n",
       "  </thead>\n",
       "  <tbody>\n",
       "    <tr>\n",
       "      <th>0</th>\n",
       "      <td>date wed NUMBER aug NUMBER NUMBER NUMBER NUMB...</td>\n",
       "      <td>0</td>\n",
       "      <td>1522</td>\n",
       "      <td>257</td>\n",
       "      <td>1</td>\n",
       "      <td>date wed number aug number number number numbe...</td>\n",
       "    </tr>\n",
       "    <tr>\n",
       "      <th>1</th>\n",
       "      <td>martin a posted tassos papadopoulos the greek ...</td>\n",
       "      <td>0</td>\n",
       "      <td>643</td>\n",
       "      <td>113</td>\n",
       "      <td>1</td>\n",
       "      <td>martin post tasso papadopoulo greek sculptor b...</td>\n",
       "    </tr>\n",
       "    <tr>\n",
       "      <th>2</th>\n",
       "      <td>man threatens explosion in moscow thursday aug...</td>\n",
       "      <td>0</td>\n",
       "      <td>1509</td>\n",
       "      <td>256</td>\n",
       "      <td>1</td>\n",
       "      <td>man threaten explos moscow thursday august num...</td>\n",
       "    </tr>\n",
       "    <tr>\n",
       "      <th>3</th>\n",
       "      <td>klez the virus that won t die already the most...</td>\n",
       "      <td>0</td>\n",
       "      <td>1015</td>\n",
       "      <td>169</td>\n",
       "      <td>1</td>\n",
       "      <td>klez viru die alreadi prolif viru ever klez co...</td>\n",
       "    </tr>\n",
       "    <tr>\n",
       "      <th>4</th>\n",
       "      <td>in adding cream to spaghetti carbonara which ...</td>\n",
       "      <td>0</td>\n",
       "      <td>771</td>\n",
       "      <td>144</td>\n",
       "      <td>1</td>\n",
       "      <td>ad cream spaghetti carbonara effect pasta make...</td>\n",
       "    </tr>\n",
       "  </tbody>\n",
       "</table>\n",
       "</div>"
      ],
      "text/plain": [
       "                                             Message  Category  \\\n",
       "0   date wed NUMBER aug NUMBER NUMBER NUMBER NUMB...         0   \n",
       "1  martin a posted tassos papadopoulos the greek ...         0   \n",
       "2  man threatens explosion in moscow thursday aug...         0   \n",
       "3  klez the virus that won t die already the most...         0   \n",
       "4   in adding cream to spaghetti carbonara which ...         0   \n",
       "\n",
       "   num_characters  num_words  num_sentences  \\\n",
       "0            1522        257              1   \n",
       "1             643        113              1   \n",
       "2            1509        256              1   \n",
       "3            1015        169              1   \n",
       "4             771        144              1   \n",
       "\n",
       "                                    transformed_text  \n",
       "0  date wed number aug number number number numbe...  \n",
       "1  martin post tasso papadopoulo greek sculptor b...  \n",
       "2  man threaten explos moscow thursday august num...  \n",
       "3  klez viru die alreadi prolif viru ever klez co...  \n",
       "4  ad cream spaghetti carbonara effect pasta make...  "
      ]
     },
     "execution_count": 48,
     "metadata": {},
     "output_type": "execute_result"
    }
   ],
   "source": [
    "df.head()"
   ]
  },
  {
   "cell_type": "code",
   "execution_count": 49,
   "id": "47a4404d",
   "metadata": {},
   "outputs": [],
   "source": [
    "spam_corpus = []\n",
    "for msg in df[df['Category'] == 1]['transformed_text'].tolist():\n",
    "    for word in msg.split():\n",
    "        spam_corpus.append(word)"
   ]
  },
  {
   "cell_type": "code",
   "execution_count": 50,
   "id": "e5662d27",
   "metadata": {},
   "outputs": [
    {
     "data": {
      "text/plain": [
       "91879"
      ]
     },
     "execution_count": 50,
     "metadata": {},
     "output_type": "execute_result"
    }
   ],
   "source": [
    "len(spam_corpus)"
   ]
  },
  {
   "cell_type": "code",
   "execution_count": 51,
   "id": "dfcf74b1",
   "metadata": {},
   "outputs": [
    {
     "name": "stderr",
     "output_type": "stream",
     "text": [
      "C:\\Users\\Suleman Zeb\\anaconda3\\lib\\site-packages\\seaborn\\_decorators.py:36: FutureWarning: Pass the following variables as keyword args: x, y. From version 0.12, the only valid positional argument will be `data`, and passing other arguments without an explicit keyword will result in an error or misinterpretation.\n",
      "  warnings.warn(\n"
     ]
    },
    {
     "data": {
      "image/png": "[encoded data removed]",
      "text/plain": [
       "<Figure size 432x288 with 1 Axes>"
      ]
     },
     "metadata": {
      "needs_background": "light"
     },
     "output_type": "display_data"
    }
   ],
   "source": [
    "from collections import Counter\n",
    "sns.barplot(pd.DataFrame(Counter(spam_corpus).most_common(30))[0],pd.DataFrame(Counter(spam_corpus).most_common(30))[1])\n",
    "plt.xticks(rotation='vertical')\n",
    "plt.show()"
   ]
  },
  {
   "cell_type": "code",
   "execution_count": 52,
   "id": "f9e71442",
   "metadata": {},
   "outputs": [],
   "source": [
    "ham_corpus = []\n",
    "for msg in df[df['Message'] == 0]['transformed_text'].tolist():\n",
    "    for word in msg.split():\n",
    "        ham_corpus.append(word)"
   ]
  },
  {
   "cell_type": "code",
   "execution_count": 53,
   "id": "8aad3f10",
   "metadata": {},
   "outputs": [
    {
     "data": {
      "text/html": [
       "<div>\n",
       "<style scoped>\n",
       "    .dataframe tbody tr th:only-of-type {\n",
       "        vertical-align: middle;\n",
       "    }\n",
       "\n",
       "    .dataframe tbody tr th {\n",
       "        vertical-align: top;\n",
       "    }\n",
       "\n",
       "    .dataframe thead th {\n",
       "        text-align: right;\n",
       "    }\n",
       "</style>\n",
       "<table border=\"1\" class=\"dataframe\">\n",
       "  <thead>\n",
       "    <tr style=\"text-align: right;\">\n",
       "      <th></th>\n",
       "      <th>Message</th>\n",
       "      <th>Category</th>\n",
       "      <th>num_characters</th>\n",
       "      <th>num_words</th>\n",
       "      <th>num_sentences</th>\n",
       "      <th>transformed_text</th>\n",
       "    </tr>\n",
       "  </thead>\n",
       "  <tbody>\n",
       "    <tr>\n",
       "      <th>0</th>\n",
       "      <td>date wed NUMBER aug NUMBER NUMBER NUMBER NUMB...</td>\n",
       "      <td>0</td>\n",
       "      <td>1522</td>\n",
       "      <td>257</td>\n",
       "      <td>1</td>\n",
       "      <td>date wed number aug number number number numbe...</td>\n",
       "    </tr>\n",
       "    <tr>\n",
       "      <th>1</th>\n",
       "      <td>martin a posted tassos papadopoulos the greek ...</td>\n",
       "      <td>0</td>\n",
       "      <td>643</td>\n",
       "      <td>113</td>\n",
       "      <td>1</td>\n",
       "      <td>martin post tasso papadopoulo greek sculptor b...</td>\n",
       "    </tr>\n",
       "    <tr>\n",
       "      <th>2</th>\n",
       "      <td>man threatens explosion in moscow thursday aug...</td>\n",
       "      <td>0</td>\n",
       "      <td>1509</td>\n",
       "      <td>256</td>\n",
       "      <td>1</td>\n",
       "      <td>man threaten explos moscow thursday august num...</td>\n",
       "    </tr>\n",
       "    <tr>\n",
       "      <th>3</th>\n",
       "      <td>klez the virus that won t die already the most...</td>\n",
       "      <td>0</td>\n",
       "      <td>1015</td>\n",
       "      <td>169</td>\n",
       "      <td>1</td>\n",
       "      <td>klez viru die alreadi prolif viru ever klez co...</td>\n",
       "    </tr>\n",
       "    <tr>\n",
       "      <th>4</th>\n",
       "      <td>in adding cream to spaghetti carbonara which ...</td>\n",
       "      <td>0</td>\n",
       "      <td>771</td>\n",
       "      <td>144</td>\n",
       "      <td>1</td>\n",
       "      <td>ad cream spaghetti carbonara effect pasta make...</td>\n",
       "    </tr>\n",
       "  </tbody>\n",
       "</table>\n",
       "</div>"
      ],
      "text/plain": [
       "                                             Message  Category  \\\n",
       "0   date wed NUMBER aug NUMBER NUMBER NUMBER NUMB...         0   \n",
       "1  martin a posted tassos papadopoulos the greek ...         0   \n",
       "2  man threatens explosion in moscow thursday aug...         0   \n",
       "3  klez the virus that won t die already the most...         0   \n",
       "4   in adding cream to spaghetti carbonara which ...         0   \n",
       "\n",
       "   num_characters  num_words  num_sentences  \\\n",
       "0            1522        257              1   \n",
       "1             643        113              1   \n",
       "2            1509        256              1   \n",
       "3            1015        169              1   \n",
       "4             771        144              1   \n",
       "\n",
       "                                    transformed_text  \n",
       "0  date wed number aug number number number numbe...  \n",
       "1  martin post tasso papadopoulo greek sculptor b...  \n",
       "2  man threaten explos moscow thursday august num...  \n",
       "3  klez viru die alreadi prolif viru ever klez co...  \n",
       "4  ad cream spaghetti carbonara effect pasta make...  "
      ]
     },
     "execution_count": 53,
     "metadata": {},
     "output_type": "execute_result"
    }
   ],
   "source": [
    "# Text Vectorization\n",
    "# using Bag of Words\n",
    "df.head()"
   ]
  },
  {
   "cell_type": "markdown",
   "id": "8893e13a",
   "metadata": {},
   "source": [
    "##  Model Building"
   ]
  },
  {
   "cell_type": "code",
   "execution_count": 54,
   "id": "35e19a68",
   "metadata": {},
   "outputs": [],
   "source": [
    "from sklearn.feature_extraction.text import CountVectorizer,TfidfVectorizer\n",
    "cv = CountVectorizer()\n",
    "tfidf = TfidfVectorizer(max_features=3000)"
   ]
  },
  {
   "cell_type": "code",
   "execution_count": 55,
   "id": "a21a7988",
   "metadata": {},
   "outputs": [],
   "source": [
    "X = tfidf.fit_transform(df['transformed_text']).toarray()"
   ]
  },
  {
   "cell_type": "code",
   "execution_count": 56,
   "id": "c30d11db",
   "metadata": {},
   "outputs": [],
   "source": [
    "y = df['Category'].values"
   ]
  },
  {
   "cell_type": "code",
   "execution_count": 57,
   "id": "e5c1cb2f",
   "metadata": {},
   "outputs": [],
   "source": [
    "from sklearn.model_selection import train_test_split"
   ]
  },
  {
   "cell_type": "code",
   "execution_count": 58,
   "id": "a5c2947d",
   "metadata": {},
   "outputs": [],
   "source": [
    "X_train,X_test,y_train,y_test = train_test_split(X,y,test_size=0.3,random_state=2)"
   ]
  },
  {
   "cell_type": "code",
   "execution_count": 59,
   "id": "7496bafc",
   "metadata": {},
   "outputs": [],
   "source": [
    "from sklearn.naive_bayes import GaussianNB,MultinomialNB,BernoulliNB\n",
    "from sklearn.metrics import accuracy_score,confusion_matrix,precision_score"
   ]
  },
  {
   "cell_type": "code",
   "execution_count": 60,
   "id": "30795a7b",
   "metadata": {},
   "outputs": [],
   "source": [
    "gnb = GaussianNB()\n",
    "mnb = MultinomialNB()\n",
    "bnb = BernoulliNB()"
   ]
  },
  {
   "cell_type": "code",
   "execution_count": 61,
   "id": "bf3a1021",
   "metadata": {},
   "outputs": [
    {
     "name": "stdout",
     "output_type": "stream",
     "text": [
      "0.7575757575757576\n",
      "[[1569  522]\n",
      " [  62  256]]\n",
      "0.32904884318766064\n"
     ]
    }
   ],
   "source": [
    "gnb.fit(X_train,y_train)\n",
    "y_pred1 = gnb.predict(X_test)\n",
    "print(accuracy_score(y_test,y_pred1))\n",
    "print(confusion_matrix(y_test,y_pred1))\n",
    "print(precision_score(y_test,y_pred1))"
   ]
  },
  {
   "cell_type": "code",
   "execution_count": 62,
   "id": "977adfeb",
   "metadata": {},
   "outputs": [
    {
     "name": "stdout",
     "output_type": "stream",
     "text": [
      "0.9622249896222499\n",
      "[[2086    5]\n",
      " [  86  232]]\n",
      "0.9789029535864979\n"
     ]
    }
   ],
   "source": [
    "mnb.fit(X_train,y_train)\n",
    "y_pred2 = mnb.predict(X_test)\n",
    "print(accuracy_score(y_test,y_pred2))\n",
    "print(confusion_matrix(y_test,y_pred2))\n",
    "print(precision_score(y_test,y_pred2))"
   ]
  },
  {
   "cell_type": "code",
   "execution_count": 63,
   "id": "59d03d37",
   "metadata": {},
   "outputs": [
    {
     "name": "stdout",
     "output_type": "stream",
     "text": [
      "0.9095060190950602\n",
      "[[2014   77]\n",
      " [ 141  177]]\n",
      "0.6968503937007874\n"
     ]
    }
   ],
   "source": [
    "bnb.fit(X_train,y_train)\n",
    "y_pred3 = bnb.predict(X_test)\n",
    "print(accuracy_score(y_test,y_pred3))\n",
    "print(confusion_matrix(y_test,y_pred3))\n",
    "print(precision_score(y_test,y_pred3))"
   ]
  },
  {
   "cell_type": "code",
   "execution_count": 64,
   "id": "2d6b934f",
   "metadata": {},
   "outputs": [],
   "source": [
    "from sklearn.model_selection import cross_validate, cross_val_score"
   ]
  },
  {
   "cell_type": "code",
   "execution_count": 65,
   "id": "41c9ad69",
   "metadata": {},
   "outputs": [
    {
     "name": "stdout",
     "output_type": "stream",
     "text": [
      "Accuracy scores for each fold: [0.94928826 0.95640569 0.96441281 0.95551601 0.95907473]\n",
      "Mean accuracy: 0.9569395017793594\n",
      "Standard deviation of accuracy: 0.004924680606084706\n",
      "Test Accuracy for each fold: [0.94928826 0.95640569 0.96441281 0.95551601 0.95907473]\n",
      "Mean Test Accuracy: 0.9569395017793594\n",
      "Test Precision for each fold: [0.96752596 0.94875253 0.96871579 0.9668552  0.97318086]\n",
      "Mean Test Precision: 0.9650060683233956\n"
     ]
    },
    {
     "data": {
      "text/plain": [
       "MultinomialNB()"
      ]
     },
     "execution_count": 65,
     "metadata": {},
     "output_type": "execute_result"
    }
   ],
   "source": [
    "# Perform 5-fold cross-validation to evaluate accuracy\n",
    "accuracy_scores = cross_val_score(mnb, X_train, y_train, cv=5, scoring='accuracy')\n",
    "# Print the accuracy scores for each fold\n",
    "print(\"Accuracy scores for each fold:\", accuracy_scores)\n",
    "print(\"Mean accuracy:\", accuracy_scores.mean())\n",
    "print(\"Standard deviation of accuracy:\", accuracy_scores.std())\n",
    "# Perform 5-fold cross-validation to evaluate both accuracy and precision\n",
    "cv_results = cross_validate(\n",
    "mnb,\n",
    "X_train,\n",
    "y_train,\n",
    "cv=5,\n",
    "scoring=['accuracy', 'precision_macro'], # Use 'precision_macro' for multiclass precision\n",
    "return_train_score=True\n",
    ")\n",
    "# Print the cross-validation results\n",
    "print(\"Test Accuracy for each fold:\", cv_results['test_accuracy'])\n",
    "print(\"Mean Test Accuracy:\", cv_results['test_accuracy'].mean())\n",
    "print(\"Test Precision for each fold:\", cv_results['test_precision_macro'])\n",
    "print(\"Mean Test Precision:\", cv_results['test_precision_macro'].mean())\n",
    "mnb.fit(X_train, y_train)"
   ]
  },
  {
   "cell_type": "markdown",
   "id": "1ac44309",
   "metadata": {},
   "source": [
    "## J48 model (random forest classifier)"
   ]
  },
  {
   "cell_type": "code",
   "execution_count": 66,
   "id": "552a0a5d",
   "metadata": {},
   "outputs": [],
   "source": [
    "from sklearn.ensemble import RandomForestClassifier"
   ]
  },
  {
   "cell_type": "code",
   "execution_count": 67,
   "id": "0b7e2147",
   "metadata": {},
   "outputs": [
    {
     "name": "stdout",
     "output_type": "stream",
     "text": [
      "0.9713574097135741\n",
      "[[2086    5]\n",
      " [  64  254]]\n",
      "0.9806949806949807\n"
     ]
    }
   ],
   "source": [
    "rf_model = RandomForestClassifier(n_estimators=50, random_state=2)\n",
    "rf_model.fit(X_train,y_train)\n",
    "y_pred4 = rf_model.predict(X_test)\n",
    "print(accuracy_score(y_test,y_pred4))\n",
    "print(confusion_matrix(y_test,y_pred4))\n",
    "print(precision_score(y_test,y_pred4))"
   ]
  },
  {
   "cell_type": "code",
   "execution_count": 68,
   "id": "b0499891",
   "metadata": {},
   "outputs": [
    {
     "name": "stdout",
     "output_type": "stream",
     "text": [
      "Accuracy scores for each fold: [0.97330961 0.97775801 0.97686833 0.96886121 0.97153025]\n",
      "Mean accuracy: 0.9736654804270464\n",
      "Standard deviation of accuracy: 0.003309799864366252\n",
      "Test Accuracy for each fold: [0.97330961 0.97775801 0.97686833 0.96886121 0.97153025]\n",
      "Mean Test Accuracy: 0.9736654804270464\n",
      "Test Precision for each fold: [0.98505976 0.98748749 0.97689212 0.97517873 0.97340323]\n",
      "Mean Test Precision: 0.9796042648840719\n"
     ]
    },
    {
     "data": {
      "text/plain": [
       "RandomForestClassifier(n_estimators=50, random_state=2)"
      ]
     },
     "execution_count": 68,
     "metadata": {},
     "output_type": "execute_result"
    }
   ],
   "source": [
    "# Perform 5-fold cross-validation to evaluate accuracy\n",
    "accuracy_scores = cross_val_score(rf_model, X_train, y_train, cv=5, scoring='accuracy')\n",
    "# Print the accuracy scores for each fold\n",
    "print(\"Accuracy scores for each fold:\", accuracy_scores)\n",
    "print(\"Mean accuracy:\", accuracy_scores.mean())\n",
    "print(\"Standard deviation of accuracy:\", accuracy_scores.std())\n",
    "# Perform 5-fold cross-validation to evaluate both accuracy and precision\n",
    "cv_results = cross_validate(\n",
    "rf_model,\n",
    "X_train,\n",
    "y_train,\n",
    "cv=5,\n",
    "scoring=['accuracy', 'precision_macro'], # Use 'precision_macro' for multiclass precision\n",
    "return_train_score=True\n",
    ")\n",
    "# Print the cross-validation results\n",
    "print(\"Test Accuracy for each fold:\", cv_results['test_accuracy'])\n",
    "print(\"Mean Test Accuracy:\", cv_results['test_accuracy'].mean())\n",
    "print(\"Test Precision for each fold:\", cv_results['test_precision_macro'])\n",
    "print(\"Mean Test Precision:\", cv_results['test_precision_macro'].mean())\n",
    "rf_model.fit(X_train, y_train)"
   ]
  },
  {
   "cell_type": "code",
   "execution_count": 69,
   "id": "1d179cde",
   "metadata": {},
   "outputs": [],
   "source": [
    "y_pred5 = rf_model.predict(X_test)"
   ]
  },
  {
   "cell_type": "code",
   "execution_count": 70,
   "id": "c18f5cbe",
   "metadata": {},
   "outputs": [
    {
     "name": "stdout",
     "output_type": "stream",
     "text": [
      "0.9713574097135741\n",
      "[[2086    5]\n",
      " [  64  254]]\n",
      "0.9806949806949807\n"
     ]
    }
   ],
   "source": [
    "print(accuracy_score(y_test,y_pred5))\n",
    "print(confusion_matrix(y_test,y_pred5))\n",
    "print(precision_score(y_test,y_pred5))"
   ]
  },
  {
   "cell_type": "code",
   "execution_count": 72,
   "id": "e5919595",
   "metadata": {},
   "outputs": [],
   "source": [
    "# Save the model to a pickle file\n",
    "import pickle\n",
    "pickle.dump(tfidf, open('Vectorizer.pkl', 'wb'))\n",
    "pickle.dump(rf_model, open('j48_model.pkl', 'wb'))"
   ]
  },
  {
   "cell_type": "markdown",
   "id": "2744bd12",
   "metadata": {},
   "source": [
    "# Applying Other Models"
   ]
  },
  {
   "cell_type": "code",
   "execution_count": 73,
   "id": "69d7b7d9",
   "metadata": {},
   "outputs": [],
   "source": [
    "from sklearn.linear_model import LogisticRegression\n",
    "from sklearn.svm import SVC\n",
    "from sklearn.naive_bayes import MultinomialNB\n",
    "from sklearn.tree import DecisionTreeClassifier\n",
    "from sklearn.neighbors import KNeighborsClassifier\n",
    "from sklearn.ensemble import AdaBoostClassifier\n",
    "from sklearn.ensemble import BaggingClassifier\n",
    "from sklearn.ensemble import ExtraTreesClassifier\n",
    "from sklearn.ensemble import GradientBoostingClassifier"
   ]
  },
  {
   "cell_type": "code",
   "execution_count": 74,
   "id": "39fb2bb7",
   "metadata": {},
   "outputs": [],
   "source": [
    "svc = SVC(kernel='sigmoid', gamma=1.0)\n",
    "knc = KNeighborsClassifier()\n",
    "mnb = MultinomialNB()\n",
    "dtc = DecisionTreeClassifier(max_depth=5)\n",
    "lrc = LogisticRegression(solver='liblinear', penalty='l1')\n",
    "rfc = RandomForestClassifier(n_estimators=50, random_state=2)\n",
    "abc = AdaBoostClassifier(n_estimators=50, random_state=2)\n",
    "bc = BaggingClassifier(n_estimators=50, random_state=2)\n",
    "etc = ExtraTreesClassifier(n_estimators=50, random_state=2)\n",
    "gbdt = GradientBoostingClassifier(n_estimators=50,random_state=2)"
   ]
  },
  {
   "cell_type": "code",
   "execution_count": 75,
   "id": "68b5edb5",
   "metadata": {},
   "outputs": [],
   "source": [
    "clfs = {\n",
    "    'SVC' : svc,\n",
    "    'KN' : knc, \n",
    "    'NB': mnb, \n",
    "    'DT': dtc, \n",
    "    'LR': lrc, \n",
    "    'RF': rfc, \n",
    "    'AdaBoost': abc, \n",
    "    'BgC': bc, \n",
    "    'ETC': etc,\n",
    "    'GBDT':gbdt\n",
    "}"
   ]
  },
  {
   "cell_type": "code",
   "execution_count": 76,
   "id": "bb370728",
   "metadata": {},
   "outputs": [],
   "source": [
    "def train_classifier(clf,X_train,y_train,X_test,y_test):\n",
    "    clf.fit(X_train,y_train)\n",
    "    y_pred = clf.predict(X_test)\n",
    "    accuracy = accuracy_score(y_test,y_pred)\n",
    "    precision = precision_score(y_test,y_pred)\n",
    "    \n",
    "    return accuracy,precision"
   ]
  },
  {
   "cell_type": "code",
   "execution_count": 77,
   "id": "53ce682a",
   "metadata": {},
   "outputs": [
    {
     "data": {
      "text/plain": [
       "(0.9734329597343296, 0.950354609929078)"
      ]
     },
     "execution_count": 77,
     "metadata": {},
     "output_type": "execute_result"
    }
   ],
   "source": [
    "train_classifier(svc,X_train,y_train,X_test,y_test)"
   ]
  },
  {
   "cell_type": "code",
   "execution_count": 78,
   "id": "a23281f3",
   "metadata": {},
   "outputs": [
    {
     "name": "stdout",
     "output_type": "stream",
     "text": [
      "For  SVC\n",
      "Accuracy -  0.9734329597343296\n",
      "Precision -  0.950354609929078\n",
      "For  KN\n",
      "Accuracy -  0.912826899128269\n",
      "Precision -  0.990909090909091\n",
      "For  NB\n",
      "Accuracy -  0.9622249896222499\n",
      "Precision -  0.9789029535864979\n",
      "For  DT\n",
      "Accuracy -  0.933582399335824\n",
      "Precision -  0.895\n",
      "For  LR\n",
      "Accuracy -  0.958904109589041\n",
      "Precision -  0.9581589958158996\n",
      "For  RF\n",
      "Accuracy -  0.9713574097135741\n",
      "Precision -  0.9806949806949807\n",
      "For  AdaBoost\n",
      "Accuracy -  0.9564134495641345\n",
      "Precision -  0.9080459770114943\n",
      "For  BgC\n",
      "Accuracy -  0.9576587795765878\n",
      "Precision -  0.8857142857142857\n",
      "For  ETC\n",
      "Accuracy -  0.9721876297218763\n",
      "Precision -  0.966542750929368\n",
      "For  GBDT\n",
      "Accuracy -  0.9414694894146949\n",
      "Precision -  0.9538461538461539\n"
     ]
    }
   ],
   "source": [
    "accuracy_scores = []\n",
    "precision_scores = []\n",
    "\n",
    "for name,clf in clfs.items():\n",
    "    \n",
    "    current_accuracy,current_precision = train_classifier(clf, X_train,y_train,X_test,y_test)\n",
    "    \n",
    "    print(\"For \",name)\n",
    "    print(\"Accuracy - \",current_accuracy)\n",
    "    print(\"Precision - \",current_precision)\n",
    "    \n",
    "    accuracy_scores.append(current_accuracy)\n",
    "    precision_scores.append(current_precision)"
   ]
  },
  {
   "cell_type": "code",
   "execution_count": 79,
   "id": "0d1065df",
   "metadata": {},
   "outputs": [],
   "source": [
    "performance_df = pd.DataFrame({'Algorithm':clfs.keys(),'Accuracy':accuracy_scores,'Precision':precision_scores}).sort_values('Precision',ascending=False)"
   ]
  },
  {
   "cell_type": "code",
   "execution_count": 80,
   "id": "c88b28b2",
   "metadata": {},
   "outputs": [
    {
     "data": {
      "text/html": [
       "<div>\n",
       "<style scoped>\n",
       "    .dataframe tbody tr th:only-of-type {\n",
       "        vertical-align: middle;\n",
       "    }\n",
       "\n",
       "    .dataframe tbody tr th {\n",
       "        vertical-align: top;\n",
       "    }\n",
       "\n",
       "    .dataframe thead th {\n",
       "        text-align: right;\n",
       "    }\n",
       "</style>\n",
       "<table border=\"1\" class=\"dataframe\">\n",
       "  <thead>\n",
       "    <tr style=\"text-align: right;\">\n",
       "      <th></th>\n",
       "      <th>Algorithm</th>\n",
       "      <th>Accuracy</th>\n",
       "      <th>Precision</th>\n",
       "    </tr>\n",
       "  </thead>\n",
       "  <tbody>\n",
       "    <tr>\n",
       "      <th>1</th>\n",
       "      <td>KN</td>\n",
       "      <td>0.912827</td>\n",
       "      <td>0.990909</td>\n",
       "    </tr>\n",
       "    <tr>\n",
       "      <th>5</th>\n",
       "      <td>RF</td>\n",
       "      <td>0.971357</td>\n",
       "      <td>0.980695</td>\n",
       "    </tr>\n",
       "    <tr>\n",
       "      <th>2</th>\n",
       "      <td>NB</td>\n",
       "      <td>0.962225</td>\n",
       "      <td>0.978903</td>\n",
       "    </tr>\n",
       "    <tr>\n",
       "      <th>8</th>\n",
       "      <td>ETC</td>\n",
       "      <td>0.972188</td>\n",
       "      <td>0.966543</td>\n",
       "    </tr>\n",
       "    <tr>\n",
       "      <th>4</th>\n",
       "      <td>LR</td>\n",
       "      <td>0.958904</td>\n",
       "      <td>0.958159</td>\n",
       "    </tr>\n",
       "    <tr>\n",
       "      <th>9</th>\n",
       "      <td>GBDT</td>\n",
       "      <td>0.941469</td>\n",
       "      <td>0.953846</td>\n",
       "    </tr>\n",
       "    <tr>\n",
       "      <th>0</th>\n",
       "      <td>SVC</td>\n",
       "      <td>0.973433</td>\n",
       "      <td>0.950355</td>\n",
       "    </tr>\n",
       "    <tr>\n",
       "      <th>6</th>\n",
       "      <td>AdaBoost</td>\n",
       "      <td>0.956413</td>\n",
       "      <td>0.908046</td>\n",
       "    </tr>\n",
       "    <tr>\n",
       "      <th>3</th>\n",
       "      <td>DT</td>\n",
       "      <td>0.933582</td>\n",
       "      <td>0.895000</td>\n",
       "    </tr>\n",
       "    <tr>\n",
       "      <th>7</th>\n",
       "      <td>BgC</td>\n",
       "      <td>0.957659</td>\n",
       "      <td>0.885714</td>\n",
       "    </tr>\n",
       "  </tbody>\n",
       "</table>\n",
       "</div>"
      ],
      "text/plain": [
       "  Algorithm  Accuracy  Precision\n",
       "1        KN  0.912827   0.990909\n",
       "5        RF  0.971357   0.980695\n",
       "2        NB  0.962225   0.978903\n",
       "8       ETC  0.972188   0.966543\n",
       "4        LR  0.958904   0.958159\n",
       "9      GBDT  0.941469   0.953846\n",
       "0       SVC  0.973433   0.950355\n",
       "6  AdaBoost  0.956413   0.908046\n",
       "3        DT  0.933582   0.895000\n",
       "7       BgC  0.957659   0.885714"
      ]
     },
     "execution_count": 80,
     "metadata": {},
     "output_type": "execute_result"
    }
   ],
   "source": [
    "performance_df"
   ]
  },
  {
   "cell_type": "code",
   "execution_count": 81,
   "id": "4cd84894",
   "metadata": {},
   "outputs": [],
   "source": [
    "performance_df1 = pd.melt(performance_df, id_vars = \"Algorithm\")"
   ]
  },
  {
   "cell_type": "code",
   "execution_count": 82,
   "id": "dbd99c07",
   "metadata": {},
   "outputs": [
    {
     "data": {
      "text/html": [
       "<div>\n",
       "<style scoped>\n",
       "    .dataframe tbody tr th:only-of-type {\n",
       "        vertical-align: middle;\n",
       "    }\n",
       "\n",
       "    .dataframe tbody tr th {\n",
       "        vertical-align: top;\n",
       "    }\n",
       "\n",
       "    .dataframe thead th {\n",
       "        text-align: right;\n",
       "    }\n",
       "</style>\n",
       "<table border=\"1\" class=\"dataframe\">\n",
       "  <thead>\n",
       "    <tr style=\"text-align: right;\">\n",
       "      <th></th>\n",
       "      <th>Algorithm</th>\n",
       "      <th>variable</th>\n",
       "      <th>value</th>\n",
       "    </tr>\n",
       "  </thead>\n",
       "  <tbody>\n",
       "    <tr>\n",
       "      <th>0</th>\n",
       "      <td>KN</td>\n",
       "      <td>Accuracy</td>\n",
       "      <td>0.912827</td>\n",
       "    </tr>\n",
       "    <tr>\n",
       "      <th>1</th>\n",
       "      <td>RF</td>\n",
       "      <td>Accuracy</td>\n",
       "      <td>0.971357</td>\n",
       "    </tr>\n",
       "    <tr>\n",
       "      <th>2</th>\n",
       "      <td>NB</td>\n",
       "      <td>Accuracy</td>\n",
       "      <td>0.962225</td>\n",
       "    </tr>\n",
       "    <tr>\n",
       "      <th>3</th>\n",
       "      <td>ETC</td>\n",
       "      <td>Accuracy</td>\n",
       "      <td>0.972188</td>\n",
       "    </tr>\n",
       "    <tr>\n",
       "      <th>4</th>\n",
       "      <td>LR</td>\n",
       "      <td>Accuracy</td>\n",
       "      <td>0.958904</td>\n",
       "    </tr>\n",
       "    <tr>\n",
       "      <th>5</th>\n",
       "      <td>GBDT</td>\n",
       "      <td>Accuracy</td>\n",
       "      <td>0.941469</td>\n",
       "    </tr>\n",
       "    <tr>\n",
       "      <th>6</th>\n",
       "      <td>SVC</td>\n",
       "      <td>Accuracy</td>\n",
       "      <td>0.973433</td>\n",
       "    </tr>\n",
       "    <tr>\n",
       "      <th>7</th>\n",
       "      <td>AdaBoost</td>\n",
       "      <td>Accuracy</td>\n",
       "      <td>0.956413</td>\n",
       "    </tr>\n",
       "    <tr>\n",
       "      <th>8</th>\n",
       "      <td>DT</td>\n",
       "      <td>Accuracy</td>\n",
       "      <td>0.933582</td>\n",
       "    </tr>\n",
       "    <tr>\n",
       "      <th>9</th>\n",
       "      <td>BgC</td>\n",
       "      <td>Accuracy</td>\n",
       "      <td>0.957659</td>\n",
       "    </tr>\n",
       "    <tr>\n",
       "      <th>10</th>\n",
       "      <td>KN</td>\n",
       "      <td>Precision</td>\n",
       "      <td>0.990909</td>\n",
       "    </tr>\n",
       "    <tr>\n",
       "      <th>11</th>\n",
       "      <td>RF</td>\n",
       "      <td>Precision</td>\n",
       "      <td>0.980695</td>\n",
       "    </tr>\n",
       "    <tr>\n",
       "      <th>12</th>\n",
       "      <td>NB</td>\n",
       "      <td>Precision</td>\n",
       "      <td>0.978903</td>\n",
       "    </tr>\n",
       "    <tr>\n",
       "      <th>13</th>\n",
       "      <td>ETC</td>\n",
       "      <td>Precision</td>\n",
       "      <td>0.966543</td>\n",
       "    </tr>\n",
       "    <tr>\n",
       "      <th>14</th>\n",
       "      <td>LR</td>\n",
       "      <td>Precision</td>\n",
       "      <td>0.958159</td>\n",
       "    </tr>\n",
       "    <tr>\n",
       "      <th>15</th>\n",
       "      <td>GBDT</td>\n",
       "      <td>Precision</td>\n",
       "      <td>0.953846</td>\n",
       "    </tr>\n",
       "    <tr>\n",
       "      <th>16</th>\n",
       "      <td>SVC</td>\n",
       "      <td>Precision</td>\n",
       "      <td>0.950355</td>\n",
       "    </tr>\n",
       "    <tr>\n",
       "      <th>17</th>\n",
       "      <td>AdaBoost</td>\n",
       "      <td>Precision</td>\n",
       "      <td>0.908046</td>\n",
       "    </tr>\n",
       "    <tr>\n",
       "      <th>18</th>\n",
       "      <td>DT</td>\n",
       "      <td>Precision</td>\n",
       "      <td>0.895000</td>\n",
       "    </tr>\n",
       "    <tr>\n",
       "      <th>19</th>\n",
       "      <td>BgC</td>\n",
       "      <td>Precision</td>\n",
       "      <td>0.885714</td>\n",
       "    </tr>\n",
       "  </tbody>\n",
       "</table>\n",
       "</div>"
      ],
      "text/plain": [
       "   Algorithm   variable     value\n",
       "0         KN   Accuracy  0.912827\n",
       "1         RF   Accuracy  0.971357\n",
       "2         NB   Accuracy  0.962225\n",
       "3        ETC   Accuracy  0.972188\n",
       "4         LR   Accuracy  0.958904\n",
       "5       GBDT   Accuracy  0.941469\n",
       "6        SVC   Accuracy  0.973433\n",
       "7   AdaBoost   Accuracy  0.956413\n",
       "8         DT   Accuracy  0.933582\n",
       "9        BgC   Accuracy  0.957659\n",
       "10        KN  Precision  0.990909\n",
       "11        RF  Precision  0.980695\n",
       "12        NB  Precision  0.978903\n",
       "13       ETC  Precision  0.966543\n",
       "14        LR  Precision  0.958159\n",
       "15      GBDT  Precision  0.953846\n",
       "16       SVC  Precision  0.950355\n",
       "17  AdaBoost  Precision  0.908046\n",
       "18        DT  Precision  0.895000\n",
       "19       BgC  Precision  0.885714"
      ]
     },
     "execution_count": 82,
     "metadata": {},
     "output_type": "execute_result"
    }
   ],
   "source": [
    "performance_df1"
   ]
  },
  {
   "cell_type": "code",
   "execution_count": 83,
   "id": "892bd2bd",
   "metadata": {},
   "outputs": [
    {
     "data": {
      "image/png": "[encoded data removed]",
      "text/plain": [
       "<Figure size 441.75x360 with 1 Axes>"
      ]
     },
     "metadata": {
      "needs_background": "light"
     },
     "output_type": "display_data"
    }
   ],
   "source": [
    "sns.catplot(x = 'Algorithm', y='value', \n",
    "               hue = 'variable',data=performance_df1, kind='bar',height=5)\n",
    "plt.ylim(0.5,1.0)\n",
    "plt.xticks(rotation='vertical')\n",
    "plt.show()"
   ]
  },
  {
   "cell_type": "code",
   "execution_count": 84,
   "id": "b066c9c6",
   "metadata": {},
   "outputs": [],
   "source": [
    "# model improve\n",
    "# 1. Change the max_features parameter of TfIdf"
   ]
  },
  {
   "cell_type": "code",
   "execution_count": 85,
   "id": "a28aac9c",
   "metadata": {},
   "outputs": [],
   "source": [
    "temp_df = pd.DataFrame({'Algorithm':clfs.keys(),'Accuracy_max_ft_3000':accuracy_scores,'Precision_max_ft_3000':precision_scores}).sort_values('Precision_max_ft_3000',ascending=False)"
   ]
  },
  {
   "cell_type": "code",
   "execution_count": 86,
   "id": "606bc2ae",
   "metadata": {},
   "outputs": [],
   "source": [
    "temp_df = pd.DataFrame({'Algorithm':clfs.keys(),'Accuracy_scaling':accuracy_scores,'Precision_scaling':precision_scores}).sort_values('Precision_scaling',ascending=False)"
   ]
  },
  {
   "cell_type": "code",
   "execution_count": 87,
   "id": "b8af521b",
   "metadata": {},
   "outputs": [],
   "source": [
    "new_df = performance_df.merge(temp_df,on='Algorithm')"
   ]
  },
  {
   "cell_type": "code",
   "execution_count": 88,
   "id": "caf8d6eb",
   "metadata": {},
   "outputs": [],
   "source": [
    "new_df_scaled = new_df.merge(temp_df,on='Algorithm')"
   ]
  },
  {
   "cell_type": "code",
   "execution_count": 89,
   "id": "e8728409",
   "metadata": {},
   "outputs": [],
   "source": [
    "temp_df = pd.DataFrame({'Algorithm':clfs.keys(),'Accuracy_num_chars':accuracy_scores,'Precision_num_chars':precision_scores}).sort_values('Precision_num_chars',ascending=False)"
   ]
  },
  {
   "cell_type": "code",
   "execution_count": 90,
   "id": "db8538c6",
   "metadata": {},
   "outputs": [
    {
     "data": {
      "text/html": [
       "<div>\n",
       "<style scoped>\n",
       "    .dataframe tbody tr th:only-of-type {\n",
       "        vertical-align: middle;\n",
       "    }\n",
       "\n",
       "    .dataframe tbody tr th {\n",
       "        vertical-align: top;\n",
       "    }\n",
       "\n",
       "    .dataframe thead th {\n",
       "        text-align: right;\n",
       "    }\n",
       "</style>\n",
       "<table border=\"1\" class=\"dataframe\">\n",
       "  <thead>\n",
       "    <tr style=\"text-align: right;\">\n",
       "      <th></th>\n",
       "      <th>Algorithm</th>\n",
       "      <th>Accuracy</th>\n",
       "      <th>Precision</th>\n",
       "      <th>Accuracy_scaling_x</th>\n",
       "      <th>Precision_scaling_x</th>\n",
       "      <th>Accuracy_scaling_y</th>\n",
       "      <th>Precision_scaling_y</th>\n",
       "      <th>Accuracy_num_chars</th>\n",
       "      <th>Precision_num_chars</th>\n",
       "    </tr>\n",
       "  </thead>\n",
       "  <tbody>\n",
       "    <tr>\n",
       "      <th>0</th>\n",
       "      <td>KN</td>\n",
       "      <td>0.912827</td>\n",
       "      <td>0.990909</td>\n",
       "      <td>0.912827</td>\n",
       "      <td>0.990909</td>\n",
       "      <td>0.912827</td>\n",
       "      <td>0.990909</td>\n",
       "      <td>0.912827</td>\n",
       "      <td>0.990909</td>\n",
       "    </tr>\n",
       "    <tr>\n",
       "      <th>1</th>\n",
       "      <td>RF</td>\n",
       "      <td>0.971357</td>\n",
       "      <td>0.980695</td>\n",
       "      <td>0.971357</td>\n",
       "      <td>0.980695</td>\n",
       "      <td>0.971357</td>\n",
       "      <td>0.980695</td>\n",
       "      <td>0.971357</td>\n",
       "      <td>0.980695</td>\n",
       "    </tr>\n",
       "    <tr>\n",
       "      <th>2</th>\n",
       "      <td>NB</td>\n",
       "      <td>0.962225</td>\n",
       "      <td>0.978903</td>\n",
       "      <td>0.962225</td>\n",
       "      <td>0.978903</td>\n",
       "      <td>0.962225</td>\n",
       "      <td>0.978903</td>\n",
       "      <td>0.962225</td>\n",
       "      <td>0.978903</td>\n",
       "    </tr>\n",
       "    <tr>\n",
       "      <th>3</th>\n",
       "      <td>ETC</td>\n",
       "      <td>0.972188</td>\n",
       "      <td>0.966543</td>\n",
       "      <td>0.972188</td>\n",
       "      <td>0.966543</td>\n",
       "      <td>0.972188</td>\n",
       "      <td>0.966543</td>\n",
       "      <td>0.972188</td>\n",
       "      <td>0.966543</td>\n",
       "    </tr>\n",
       "    <tr>\n",
       "      <th>4</th>\n",
       "      <td>LR</td>\n",
       "      <td>0.958904</td>\n",
       "      <td>0.958159</td>\n",
       "      <td>0.958904</td>\n",
       "      <td>0.958159</td>\n",
       "      <td>0.958904</td>\n",
       "      <td>0.958159</td>\n",
       "      <td>0.958904</td>\n",
       "      <td>0.958159</td>\n",
       "    </tr>\n",
       "    <tr>\n",
       "      <th>5</th>\n",
       "      <td>GBDT</td>\n",
       "      <td>0.941469</td>\n",
       "      <td>0.953846</td>\n",
       "      <td>0.941469</td>\n",
       "      <td>0.953846</td>\n",
       "      <td>0.941469</td>\n",
       "      <td>0.953846</td>\n",
       "      <td>0.941469</td>\n",
       "      <td>0.953846</td>\n",
       "    </tr>\n",
       "    <tr>\n",
       "      <th>6</th>\n",
       "      <td>SVC</td>\n",
       "      <td>0.973433</td>\n",
       "      <td>0.950355</td>\n",
       "      <td>0.973433</td>\n",
       "      <td>0.950355</td>\n",
       "      <td>0.973433</td>\n",
       "      <td>0.950355</td>\n",
       "      <td>0.973433</td>\n",
       "      <td>0.950355</td>\n",
       "    </tr>\n",
       "    <tr>\n",
       "      <th>7</th>\n",
       "      <td>AdaBoost</td>\n",
       "      <td>0.956413</td>\n",
       "      <td>0.908046</td>\n",
       "      <td>0.956413</td>\n",
       "      <td>0.908046</td>\n",
       "      <td>0.956413</td>\n",
       "      <td>0.908046</td>\n",
       "      <td>0.956413</td>\n",
       "      <td>0.908046</td>\n",
       "    </tr>\n",
       "    <tr>\n",
       "      <th>8</th>\n",
       "      <td>DT</td>\n",
       "      <td>0.933582</td>\n",
       "      <td>0.895000</td>\n",
       "      <td>0.933582</td>\n",
       "      <td>0.895000</td>\n",
       "      <td>0.933582</td>\n",
       "      <td>0.895000</td>\n",
       "      <td>0.933582</td>\n",
       "      <td>0.895000</td>\n",
       "    </tr>\n",
       "    <tr>\n",
       "      <th>9</th>\n",
       "      <td>BgC</td>\n",
       "      <td>0.957659</td>\n",
       "      <td>0.885714</td>\n",
       "      <td>0.957659</td>\n",
       "      <td>0.885714</td>\n",
       "      <td>0.957659</td>\n",
       "      <td>0.885714</td>\n",
       "      <td>0.957659</td>\n",
       "      <td>0.885714</td>\n",
       "    </tr>\n",
       "  </tbody>\n",
       "</table>\n",
       "</div>"
      ],
      "text/plain": [
       "  Algorithm  Accuracy  Precision  Accuracy_scaling_x  Precision_scaling_x  \\\n",
       "0        KN  0.912827   0.990909            0.912827             0.990909   \n",
       "1        RF  0.971357   0.980695            0.971357             0.980695   \n",
       "2        NB  0.962225   0.978903            0.962225             0.978903   \n",
       "3       ETC  0.972188   0.966543            0.972188             0.966543   \n",
       "4        LR  0.958904   0.958159            0.958904             0.958159   \n",
       "5      GBDT  0.941469   0.953846            0.941469             0.953846   \n",
       "6       SVC  0.973433   0.950355            0.973433             0.950355   \n",
       "7  AdaBoost  0.956413   0.908046            0.956413             0.908046   \n",
       "8        DT  0.933582   0.895000            0.933582             0.895000   \n",
       "9       BgC  0.957659   0.885714            0.957659             0.885714   \n",
       "\n",
       "   Accuracy_scaling_y  Precision_scaling_y  Accuracy_num_chars  \\\n",
       "0            0.912827             0.990909            0.912827   \n",
       "1            0.971357             0.980695            0.971357   \n",
       "2            0.962225             0.978903            0.962225   \n",
       "3            0.972188             0.966543            0.972188   \n",
       "4            0.958904             0.958159            0.958904   \n",
       "5            0.941469             0.953846            0.941469   \n",
       "6            0.973433             0.950355            0.973433   \n",
       "7            0.956413             0.908046            0.956413   \n",
       "8            0.933582             0.895000            0.933582   \n",
       "9            0.957659             0.885714            0.957659   \n",
       "\n",
       "   Precision_num_chars  \n",
       "0             0.990909  \n",
       "1             0.980695  \n",
       "2             0.978903  \n",
       "3             0.966543  \n",
       "4             0.958159  \n",
       "5             0.953846  \n",
       "6             0.950355  \n",
       "7             0.908046  \n",
       "8             0.895000  \n",
       "9             0.885714  "
      ]
     },
     "execution_count": 90,
     "metadata": {},
     "output_type": "execute_result"
    }
   ],
   "source": [
    "new_df_scaled.merge(temp_df,on='Algorithm')"
   ]
  },
  {
   "cell_type": "code",
   "execution_count": null,
   "id": "b5d6550e",
   "metadata": {},
   "outputs": [],
   "source": []
  }
 ],
 "metadata": {
  "kernelspec": {
   "display_name": "Python 3 (ipykernel)",
   "language": "python",
   "name": "python3"
  },
  "language_info": {
   "codemirror_mode": {
    "name": "ipython",
    "version": 3
   },
   "file_extension": ".py",
   "mimetype": "text/x-python",
   "name": "python",
   "nbconvert_exporter": "python",
   "pygments_lexer": "ipython3",
   "version": "3.9.12"
  }
 },
 "nbformat": 4,
 "nbformat_minor": 5
}
